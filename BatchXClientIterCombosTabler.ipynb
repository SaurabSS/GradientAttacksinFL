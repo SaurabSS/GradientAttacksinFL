{
  "nbformat": 4,
  "nbformat_minor": 0,
  "metadata": {
    "colab": {
      "name": "LFW_enhanced_random_ASR.ipynb",
      "provenance": [],
      "collapsed_sections": []
    },
    "kernelspec": {
      "display_name": "Python 3",
      "language": "python",
      "name": "python3"
    },
    "language_info": {
      "codemirror_mode": {
        "name": "ipython",
        "version": 3
      },
      "file_extension": ".py",
      "mimetype": "text/x-python",
      "name": "python",
      "nbconvert_exporter": "python",
      "pygments_lexer": "ipython3",
      "version": "3.7.4"
    }
  },
  "cells": [
    {
      "cell_type": "code",
      "metadata": {
        "id": "NWa7Xo6PkIl3",
        "colab": {
          "base_uri": "https://localhost:8080/",
          "height": 381
        },
        "outputId": "4cfe1311-fd6e-4af4-dc7d-93273d9fd781"
      },
      "source": [
        "%matplotlib inline\n",
        "\n",
        "import numpy as np\n",
        "from pprint import pprint\n",
        "\n",
        "from PIL import Image\n",
        "import matplotlib.pyplot as plt\n",
        "\n",
        "import torch\n",
        "import torch.nn as nn\n",
        "import torch.nn.functional as F\n",
        "from torch.autograd import grad\n",
        "import torchvision\n",
        "from torchvision import models, datasets, transforms\n",
        "import torch.nn.functional as func\n",
        "#torch.manual_seed(50)\n",
        "\n",
        "device = torch.device(\"cuda:0\" if torch.cuda.is_available() else \"cpu\")\n",
        "\n",
        "\n",
        "\n",
        "print(torch.__version__, torchvision.__version__)\n",
        "\n",
        "print (torch.cuda.get_device_name(device='cuda:0'))"
      ],
      "execution_count": 1,
      "outputs": [
        {
          "output_type": "stream",
          "name": "stdout",
          "text": [
            "1.9.0+cu111 0.10.0+cu111\n"
          ]
        },
        {
          "output_type": "error",
          "ename": "RuntimeError",
          "evalue": "ignored",
          "traceback": [
            "\u001b[0;31m---------------------------------------------------------------------------\u001b[0m",
            "\u001b[0;31mRuntimeError\u001b[0m                              Traceback (most recent call last)",
            "\u001b[0;32m<ipython-input-1-5a2ff0dfba59>\u001b[0m in \u001b[0;36m<module>\u001b[0;34m()\u001b[0m\n\u001b[1;32m     22\u001b[0m \u001b[0mprint\u001b[0m\u001b[0;34m(\u001b[0m\u001b[0mtorch\u001b[0m\u001b[0;34m.\u001b[0m\u001b[0m__version__\u001b[0m\u001b[0;34m,\u001b[0m \u001b[0mtorchvision\u001b[0m\u001b[0;34m.\u001b[0m\u001b[0m__version__\u001b[0m\u001b[0;34m)\u001b[0m\u001b[0;34m\u001b[0m\u001b[0;34m\u001b[0m\u001b[0m\n\u001b[1;32m     23\u001b[0m \u001b[0;34m\u001b[0m\u001b[0m\n\u001b[0;32m---> 24\u001b[0;31m \u001b[0mprint\u001b[0m \u001b[0;34m(\u001b[0m\u001b[0mtorch\u001b[0m\u001b[0;34m.\u001b[0m\u001b[0mcuda\u001b[0m\u001b[0;34m.\u001b[0m\u001b[0mget_device_name\u001b[0m\u001b[0;34m(\u001b[0m\u001b[0mdevice\u001b[0m\u001b[0;34m=\u001b[0m\u001b[0;34m'cuda:0'\u001b[0m\u001b[0;34m)\u001b[0m\u001b[0;34m)\u001b[0m\u001b[0;34m\u001b[0m\u001b[0;34m\u001b[0m\u001b[0m\n\u001b[0m",
            "\u001b[0;32m/usr/local/lib/python3.7/dist-packages/torch/cuda/__init__.py\u001b[0m in \u001b[0;36mget_device_name\u001b[0;34m(device)\u001b[0m\n\u001b[1;32m    277\u001b[0m         \u001b[0mstr\u001b[0m\u001b[0;34m:\u001b[0m \u001b[0mthe\u001b[0m \u001b[0mname\u001b[0m \u001b[0mof\u001b[0m \u001b[0mthe\u001b[0m \u001b[0mdevice\u001b[0m\u001b[0;34m\u001b[0m\u001b[0;34m\u001b[0m\u001b[0m\n\u001b[1;32m    278\u001b[0m     \"\"\"\n\u001b[0;32m--> 279\u001b[0;31m     \u001b[0;32mreturn\u001b[0m \u001b[0mget_device_properties\u001b[0m\u001b[0;34m(\u001b[0m\u001b[0mdevice\u001b[0m\u001b[0;34m)\u001b[0m\u001b[0;34m.\u001b[0m\u001b[0mname\u001b[0m\u001b[0;34m\u001b[0m\u001b[0;34m\u001b[0m\u001b[0m\n\u001b[0m\u001b[1;32m    280\u001b[0m \u001b[0;34m\u001b[0m\u001b[0m\n\u001b[1;32m    281\u001b[0m \u001b[0;34m\u001b[0m\u001b[0m\n",
            "\u001b[0;32m/usr/local/lib/python3.7/dist-packages/torch/cuda/__init__.py\u001b[0m in \u001b[0;36mget_device_properties\u001b[0;34m(device)\u001b[0m\n\u001b[1;32m    307\u001b[0m         \u001b[0m_CudaDeviceProperties\u001b[0m\u001b[0;34m:\u001b[0m \u001b[0mthe\u001b[0m \u001b[0mproperties\u001b[0m \u001b[0mof\u001b[0m \u001b[0mthe\u001b[0m \u001b[0mdevice\u001b[0m\u001b[0;34m\u001b[0m\u001b[0;34m\u001b[0m\u001b[0m\n\u001b[1;32m    308\u001b[0m     \"\"\"\n\u001b[0;32m--> 309\u001b[0;31m     \u001b[0m_lazy_init\u001b[0m\u001b[0;34m(\u001b[0m\u001b[0;34m)\u001b[0m  \u001b[0;31m# will define _get_device_properties\u001b[0m\u001b[0;34m\u001b[0m\u001b[0;34m\u001b[0m\u001b[0m\n\u001b[0m\u001b[1;32m    310\u001b[0m     \u001b[0mdevice\u001b[0m \u001b[0;34m=\u001b[0m \u001b[0m_get_device_index\u001b[0m\u001b[0;34m(\u001b[0m\u001b[0mdevice\u001b[0m\u001b[0;34m,\u001b[0m \u001b[0moptional\u001b[0m\u001b[0;34m=\u001b[0m\u001b[0;32mTrue\u001b[0m\u001b[0;34m)\u001b[0m\u001b[0;34m\u001b[0m\u001b[0;34m\u001b[0m\u001b[0m\n\u001b[1;32m    311\u001b[0m     \u001b[0;32mif\u001b[0m \u001b[0mdevice\u001b[0m \u001b[0;34m<\u001b[0m \u001b[0;36m0\u001b[0m \u001b[0;32mor\u001b[0m \u001b[0mdevice\u001b[0m \u001b[0;34m>=\u001b[0m \u001b[0mdevice_count\u001b[0m\u001b[0;34m(\u001b[0m\u001b[0;34m)\u001b[0m\u001b[0;34m:\u001b[0m\u001b[0;34m\u001b[0m\u001b[0;34m\u001b[0m\u001b[0m\n",
            "\u001b[0;32m/usr/local/lib/python3.7/dist-packages/torch/cuda/__init__.py\u001b[0m in \u001b[0;36m_lazy_init\u001b[0;34m()\u001b[0m\n\u001b[1;32m    170\u001b[0m         \u001b[0;31m# This function throws if there's a driver initialization error, no GPUs\u001b[0m\u001b[0;34m\u001b[0m\u001b[0;34m\u001b[0m\u001b[0;34m\u001b[0m\u001b[0m\n\u001b[1;32m    171\u001b[0m         \u001b[0;31m# are found or any other error occurs\u001b[0m\u001b[0;34m\u001b[0m\u001b[0;34m\u001b[0m\u001b[0;34m\u001b[0m\u001b[0m\n\u001b[0;32m--> 172\u001b[0;31m         \u001b[0mtorch\u001b[0m\u001b[0;34m.\u001b[0m\u001b[0m_C\u001b[0m\u001b[0;34m.\u001b[0m\u001b[0m_cuda_init\u001b[0m\u001b[0;34m(\u001b[0m\u001b[0;34m)\u001b[0m\u001b[0;34m\u001b[0m\u001b[0;34m\u001b[0m\u001b[0m\n\u001b[0m\u001b[1;32m    173\u001b[0m         \u001b[0;31m# Some of the queued calls may reentrantly call _lazy_init();\u001b[0m\u001b[0;34m\u001b[0m\u001b[0;34m\u001b[0m\u001b[0;34m\u001b[0m\u001b[0m\n\u001b[1;32m    174\u001b[0m         \u001b[0;31m# we need to just return without initializing in that case.\u001b[0m\u001b[0;34m\u001b[0m\u001b[0;34m\u001b[0m\u001b[0;34m\u001b[0m\u001b[0m\n",
            "\u001b[0;31mRuntimeError\u001b[0m: No CUDA GPUs are available"
          ]
        }
      ]
    },
    {
      "cell_type": "code",
      "metadata": {
        "id": "TAkCMf0zh1Eb",
        "colab": {
          "base_uri": "https://localhost:8080/"
        },
        "outputId": "c4bfce35-217f-44e2-9ef0-5bf78474d4e2"
      },
      "source": [
        "# dst = datasets.CIFAR100(\"~/.torch\", download=True)\n",
        "# dst = datasets.MNIST(\"~/.torch\", download=True)\n",
        "\n",
        "tp = transforms.Compose([\n",
        "    transforms.Resize(32),\n",
        "    transforms.CenterCrop(32),\n",
        "    transforms.ToTensor()\n",
        "])\n",
        "tt = transforms.ToPILImage()\n",
        "\n",
        "device = \"cpu\"\n",
        "if torch.cuda.is_available():\n",
        "    device = \"cuda\"\n",
        "print(\"Running on %s\" % device)\n",
        "\n",
        "def label_to_onehot(target, num_classes=10):\n",
        "    target = torch.unsqueeze(target, 1)\n",
        "    onehot_target = torch.zeros(target.size(0), num_classes, device=target.device)\n",
        "    onehot_target.scatter_(1, target, 1)\n",
        "    return onehot_target\n",
        "\n",
        "def cross_entropy_for_onehot(pred, target):\n",
        "    return torch.mean(torch.sum(- target * F.log_softmax(pred, dim=-1), 1))"
      ],
      "execution_count": 2,
      "outputs": [
        {
          "output_type": "stream",
          "name": "stdout",
          "text": [
            "Running on cpu\n"
          ]
        }
      ]
    },
    {
      "cell_type": "code",
      "metadata": {
        "id": "AorI020iVjjS"
      },
      "source": [
        "# def weights_init(m):\n",
        "#     if hasattr(m, \"weight\"):\n",
        "#         m.weight.data.uniform_(-0.5, 0.5)\n",
        "#         nn.init.xavier_uniform_(m.weight.data)\n",
        "#     if hasattr(m, \"bias\"):\n",
        "#         #m.bias.data.uniform_(-0.5, 0.5)\n",
        "#         #nn.init.xavier_uniform(m.bias.data)\n",
        "#         m.bias.data.fill_(0)\n",
        "\n",
        "\n",
        "\n",
        "# class LeNet(nn.Module):\n",
        "\n",
        "#     def __init__(self):\n",
        "\n",
        "#         super(LeNet, self).__init__()\n",
        "#         self.conv1 = nn.Conv2d(3, 6, kernel_size=5,stride=2)\n",
        "#         self.conv2 = nn.Conv2d(6, 16, kernel_size=5, stride=2)\n",
        "#         self.fc1 = nn.Linear(16*5*5, 256)\n",
        "#         self.fc2 = nn.Linear(256, 120)\n",
        "#         self.fc3 = nn.Linear(120, 106)\n",
        "\n",
        "#     def forward(self, x):\n",
        "#         #x = func.relu(self.conv1(x))\n",
        "#         x = func.sigmoid(self.conv1(x))\n",
        "#         #x = func.max_pool2d(x, 2)\n",
        "#         #x = func.relu(self.conv2(x))\n",
        "#         x = func.sigmoid(self.conv2(x))\n",
        "#         #x = func.max_pool2d(x, 2)\n",
        "#         x = x.view(x.size(0), -1)\n",
        "#         #x = func.relu(self.fc1(x))\n",
        "#         x = func.sigmoid(self.fc1(x))\n",
        "#         #x = func.relu(self.fc2(x))\n",
        "#         x = func.sigmoid(self.fc2(x))\n",
        "#         x = self.fc3(x)\n",
        "#         return x\n",
        "\n",
        "    \n",
        "    \n",
        "# def weights_init(m):\n",
        "#     if hasattr(m, \"weight\"):\n",
        "#         m.weight.data.uniform_(-0.3, 0.3)\n",
        "#     if hasattr(m, \"bias\"):\n",
        "#         m.bias.data.uniform_(-0.3, 0.3)\n",
        "\n",
        "torch.manual_seed(50)\n",
        "\n",
        "def weights_init(m):\n",
        "    if hasattr(m, \"weight\"):\n",
        "        m.weight.data.uniform_(-0.5, 0.5)\n",
        "    if hasattr(m, \"bias\"):\n",
        "        m.bias.data.uniform_(-0.5, 0.5)\n",
        "        \n",
        "def weights_init_dropout(m):\n",
        "    if hasattr(m, \"weight\"):\n",
        "        m.weight.data.uniform_(-0.1, 0.1)\n",
        "    if hasattr(m, \"bias\"):\n",
        "        m.bias.data.uniform_(-0.1, 0.1)\n",
        "\n",
        "class LeNet(nn.Module):\n",
        "    def __init__(self):\n",
        "        super(LeNet, self).__init__()\n",
        "        act = nn.Sigmoid\n",
        "        #act = nn.Tanh\n",
        "        #act = nn.ReLU\n",
        "        self.body = nn.Sequential(\n",
        "            nn.Conv2d(3, 12, kernel_size=5, padding=5//2, stride=2),\n",
        "            act(),\n",
        "            nn.Conv2d(12, 12, kernel_size=5, padding=5//2, stride=2),\n",
        "            act(),\n",
        "            nn.Conv2d(12, 12, kernel_size=5, padding=5//2, stride=1),\n",
        "            act(),\n",
        "            nn.Conv2d(12, 12, kernel_size=5, padding=5//2, stride=1),\n",
        "            act(),\n",
        "        )\n",
        "        self.fc = nn.Sequential(\n",
        "                nn.Linear(768, 106),\n",
        "                 nn.Dropout(p=0.0)\n",
        "        )\n",
        "        \n",
        "    def forward(self, x):\n",
        "        out = self.body(x)\n",
        "        out = out.view(out.size(0), -1)\n",
        "        # print(out.size())\n",
        "        out = self.fc(out)\n",
        "        return out\n",
        "\n",
        "    \n",
        "\n",
        "net = LeNet().to(device)\n",
        "net.apply(weights_init)\n",
        "\n",
        "\n",
        "# class LeNet_att(nn.Module):\n",
        "#     def __init__(self):\n",
        "#         super(LeNet_att, self).__init__()\n",
        "#         act = nn.Sigmoid\n",
        "#         #act = nn.Tanh\n",
        "#         #act = nn.ReLU\n",
        "#         self.body = nn.Sequential(\n",
        "#             nn.Conv2d(3, 12, kernel_size=5, padding=5//2, stride=2),\n",
        "#             act(),\n",
        "#             nn.Conv2d(12, 12, kernel_size=5, padding=5//2, stride=2),\n",
        "#             act(),\n",
        "#             nn.Conv2d(12, 12, kernel_size=5, padding=5//2, stride=1),\n",
        "#             act(),\n",
        "#             nn.Conv2d(12, 12, kernel_size=5, padding=5//2, stride=1),\n",
        "#             act(),\n",
        "#         )\n",
        "#         self.fc = nn.Sequential(\n",
        "#                 nn.Linear(768, 106)\n",
        "#         )\n",
        "        \n",
        "#     def forward(self, x):\n",
        "#         out = self.body(x)\n",
        "#         out = out.view(out.size(0), -1)\n",
        "#         # print(out.size())\n",
        "#         out = self.fc(out)\n",
        "#         return out\n",
        "\n",
        "# net_att = LeNet_att().to(device)\n",
        "# net_att.apply(weights_init_dropout)\n",
        "    \n",
        "#criterion = cross_entropy_for_onehot\n",
        "criterion = nn.CrossEntropyLoss()"
      ],
      "execution_count": 3,
      "outputs": []
    },
    {
      "cell_type": "code",
      "metadata": {
        "id": "aAcgG6nHh1Ed",
        "colab": {
          "base_uri": "https://localhost:8080/"
        },
        "outputId": "6287e8f8-9b60-4c15-9d60-4c191d86a87e"
      },
      "source": [
        "import torchvision.transforms as transforms\n",
        "import torch.optim as optim\n",
        "from torch.autograd import Variable\n",
        "from torch.utils import data\n",
        "\n",
        "from sklearn.datasets import fetch_lfw_people\n",
        "from sklearn.model_selection import train_test_split\n",
        "lfw_people=fetch_lfw_people(min_faces_per_person=14,color=True,slice_=(slice(61,189),slice(61,189)),resize=0.25)\n",
        "x=lfw_people.images\n",
        "y=lfw_people.target\n",
        "\n",
        "target_names=lfw_people.target_names\n",
        "n_classes=target_names.shape[0]\n",
        "\n",
        "X_train, X_test, y_train, y_test = train_test_split(x, y, test_size=0.25,shuffle=False)\n",
        "\n",
        "\n",
        "# #two people\n",
        "# X_train_two = []\n",
        "# y_train_two = []\n",
        "# X_test_two = []\n",
        "# y_test_two = []\n",
        "# for ct_d in range(X_train.shape[0]):\n",
        "#     if  y_train[ct_d] == 6:\n",
        "#         X_train_two.append(X_train[ct_d])\n",
        "#         y_train_two.append(0)\n",
        "#     if  y_train[ct_d] == 9:\n",
        "#         X_train_two.append(X_train[ct_d])\n",
        "#         y_train_two.append(1)\n",
        "        \n",
        "# for ct_d in range(X_test.shape[0]):\n",
        "#     if  y_train[ct_d] == 6:        \n",
        "#         X_test_two.append(X_test[ct_d])\n",
        "#         y_test_two.append(0)\n",
        "#     if  y_train[ct_d] == 9:\n",
        "#         X_test_two.append(X_test[ct_d])\n",
        "#         y_test_two.append(1)\n",
        "        \n",
        "# X_train = np.asarray(X_train_two)    \n",
        "# X_test = np.asarray(X_test_two)  \n",
        "# y_train = np.asarray(y_train_two)  \n",
        "# y_test = np.asarray(y_test_two)  \n",
        "\n",
        "print (X_train.shape)\n",
        "print (X_test.shape)\n",
        "\n",
        "         \n",
        "X_train = X_train.reshape(X_train.shape[0], 32, 32, 3)\n",
        "X_test = X_test.reshape(X_test.shape[0], 32, 32, 3)\n",
        "#X_train = torch.transpose\n",
        "#X_train = X_train.astype('float32')\n",
        "X_train /= 255.0\n",
        "X_test /= 255.0\n",
        "\n",
        " \n",
        "\n",
        "\n",
        "x_train = torch.FloatTensor(X_train).to(device)\n",
        "x_train = x_train.transpose(2,3).transpose(1,2)\n",
        "y_train = torch.LongTensor(y_train).to(device)\n",
        "\n",
        "x_test = torch.FloatTensor(X_test).to(device)\n",
        "x_test = x_test.transpose(2,3).transpose(1,2)\n",
        "y_test = torch.LongTensor(y_test).to(device)\n",
        "\n",
        "\n",
        "training = data.TensorDataset(x_train,y_train)\n",
        "\n",
        "testing = data.TensorDataset(x_test,y_test)\n",
        "\n",
        "dst_tensor=training\n",
        "\n",
        "criterion_train = nn.CrossEntropyLoss()\n",
        "optimizer_train = optim.Adam(net.parameters(),lr=0.01)#,momentum=0.9)\n",
        "trainloader = torch.utils.data.DataLoader(training,batch_size=32, shuffle=True)"
      ],
      "execution_count": 4,
      "outputs": [
        {
          "output_type": "stream",
          "name": "stderr",
          "text": [
            "Downloading LFW metadata: https://ndownloader.figshare.com/files/5976012\n",
            "Downloading LFW metadata: https://ndownloader.figshare.com/files/5976009\n",
            "Downloading LFW metadata: https://ndownloader.figshare.com/files/5976006\n",
            "Downloading LFW data (~200MB): https://ndownloader.figshare.com/files/5976015\n"
          ]
        },
        {
          "output_type": "stream",
          "name": "stdout",
          "text": [
            "(2801, 32, 32, 3)\n",
            "(934, 32, 32, 3)\n"
          ]
        }
      ]
    },
    {
      "cell_type": "code",
      "metadata": {
        "scrolled": true,
        "id": "KyQqWHQWh1Ee",
        "colab": {
          "base_uri": "https://localhost:8080/"
        },
        "outputId": "1f8d41fd-91c3-457e-b47f-35df4591c76e"
      },
      "source": [
        "iter_ = 0\n",
        "\n",
        "\n",
        "for epoch in range(0):\n",
        "\n",
        "    for i,data in enumerate(trainloader,0):\n",
        "   \n",
        "        #if epoch>=1:\n",
        "        if i==1:\n",
        "            #break\n",
        "            iter_=iter_+1\n",
        "            #print (iter_)\n",
        "            inputs,label = data\n",
        "\n",
        "            inputs,label =  Variable(inputs),Variable(label) \n",
        "\n",
        "            optimizer_train.zero_grad()\n",
        "\n",
        "\n",
        "            outputs_benign=net(inputs)\n",
        "            #outputs_benign = F.softmax(outputs_benign, dim=-1)\n",
        "            #print (outputs_benign[0])\n",
        "\n",
        "\n",
        "            loss_benign =  criterion_train(outputs_benign,label)\n",
        "\n",
        "            #print(\"loss computed\")\n",
        "            loss_benign.backward()\n",
        "            #print(\"loss BP\")\n",
        "            optimizer_train.step()\n",
        "\n",
        "            #if i%2000==0:\n",
        "            print (loss_benign.item())\n",
        "            #torch.save(net.state_dict(),'./LFW_net.pth')  \n",
        "       \n",
        "  \n",
        "print ('fininshed training')\n",
        "total = len(y_test)\n",
        "acc =0.0\n",
        "for ct in range(total):\n",
        "    testing_data = tt(testing[ct][0].cpu())\n",
        "    testing_data1 = tp(testing_data).to(device)\n",
        "    testing_data2 = testing_data1.view(1, *testing_data1.size())\n",
        "    y_pred = net(testing_data2)\n",
        "    predicted = torch.argmax(y_pred)\n",
        "  \n",
        "    if predicted == y_test[ct]:\n",
        "        acc=acc+1\n",
        "accuracy = acc / total\n",
        "print (accuracy)\n",
        "print ('fininshed testing')\n"
      ],
      "execution_count": 5,
      "outputs": [
        {
          "output_type": "stream",
          "name": "stdout",
          "text": [
            "fininshed training\n",
            "0.008565310492505354\n",
            "fininshed testing\n"
          ]
        }
      ]
    },
    {
      "cell_type": "code",
      "metadata": {
        "id": "llMFm61akvyX"
      },
      "source": [
        ""
      ],
      "execution_count": 5,
      "outputs": []
    },
    {
      "cell_type": "code",
      "metadata": {
        "id": "VjKWqs2akepH",
        "colab": {
          "base_uri": "https://localhost:8080/",
          "height": 334
        },
        "outputId": "f13053ab-9d1e-477b-8263-048c258be55d"
      },
      "source": [
        "\n",
        "######### honest partipant #########\n",
        "img_index = 26   #use img_index\n",
        "dst_pil = tt(dst_tensor[img_index][0].cpu())   #use img_index\n",
        "\n",
        "gt_data = tp(dst_pil).to(device)\n",
        "gt_data = torch.unsqueeze(gt_data,0)\n",
        "\n",
        "gt_label = dst_tensor[img_index][1].long().to(device) #use img_index\n",
        "gt_label = gt_label.view(1, )\n",
        "gt_onehot_label = label_to_onehot(gt_label, num_classes=106)\n",
        "\n",
        "plt.imshow(dst_pil)\n",
        "#plt.savefig(\"./original/index_%s_label_%s\"%(img_index,gt_label.item()))\n",
        "\n",
        "\n",
        "\n",
        "batch =1  #\n",
        "for bat in range(batch-1):\n",
        "    dst_pil = tt(dst_tensor[img_index+1+bat][0].cpu())   #use img_index\n",
        "    tmp = torch.unsqueeze(tp(dst_pil).to(device),0)\n",
        "    #print(tmp.shape)\n",
        "    gt_data = torch.cat((gt_data,tmp),0)\n",
        "    \n",
        "    gt_label_tmp = dst_tensor[img_index+1+bat][1].long().to(device) #use img_index\n",
        "    gt_label_tmp = gt_label_tmp.view(1, )\n",
        "    gt_label = torch.cat((gt_label,gt_label_tmp),0)\n",
        "    gt_onehot_label = torch.cat((gt_onehot_label,label_to_onehot(gt_label_tmp, num_classes=106)),0)\n",
        "    \n",
        "    if gt_label_tmp ==60:\n",
        "        print (bat)\n",
        "\n",
        "    plt.imshow(dst_pil)\n",
        "    #plt.savefig(\"./original/index_%s_label_%s\"%(bat+1,gt_label_tmp.item()))\n",
        "    \n",
        "    #plt.title(\"Ground truth image\")\n",
        "    #print(\"GT label is %d.\" % gt_label.item(), \"\\nOnehot label is %d.\" % torch.argmax(gt_onehot_label, dim=-1).item())\n",
        "\n",
        "    \n",
        "gt_label = torch.reshape(gt_label,(-1,1))    \n",
        "print (gt_data.shape)\n",
        "print (gt_label.shape)\n",
        "print (gt_label)\n",
        "print (gt_onehot_label.shape)\n",
        "\n",
        "plt.imshow(tt(gt_data[0].cpu()),cmap='gray')\n",
        "# plt.axis('off')\n",
        "# plt.savefig(\"./attack_image/tifs\")\n",
        "\n",
        "\n",
        "# compute original gradient \n",
        "dy_dx = []\n",
        "original_dy_dx=[]\n",
        "original_pred = []\n",
        "for item in range(batch):\n",
        "    gt_data_single = torch.unsqueeze(gt_data[item],0)\n",
        "    out = net(gt_data_single)\n",
        "    #y = criterion(out, gt_onehot_label[item])\n",
        "    y = criterion(out, gt_label[item])\n",
        "    dy_dx = torch.autograd.grad(y, net.parameters(),retain_graph=True)\n",
        "    original_dy_dx_tmp = list((_.detach().clone() for _ in dy_dx))\n",
        "    original_dy_dx.append(original_dy_dx_tmp)\n",
        "    out_tmp = out.detach().clone()\n",
        "    original_pred.append(out_tmp)\n",
        "    \n",
        "    \n",
        "    #dy_dx.append(torch.autograd.grad(y, net.parameters()))\n",
        "\n",
        "    \n",
        "    \n",
        "# #FOR fully-connected model only\n",
        "#     dw = net.body[0].weight\n",
        "#     db = net.body[0].bias\n",
        "#     dy_dw = torch.autograd.grad(y, dw,retain_graph=True)\n",
        "#     dy_db = torch.autograd.grad(y, db,retain_graph=True)\n",
        "\n",
        "#     print (dy_dw)\n",
        "#     #print (dy_db.shape)\n",
        "\n",
        "#     leak=dy_dw/dy_db\n",
        "\n",
        "#     print (leak.shape)\n",
        "    \n",
        "\n",
        "\n",
        "# share the gradients with other clients\n",
        "#original_dy_dx = list((_.detach().clone() for _ in dy_dx))\n"
      ],
      "execution_count": 6,
      "outputs": [
        {
          "output_type": "stream",
          "name": "stdout",
          "text": [
            "torch.Size([1, 3, 32, 32])\n",
            "torch.Size([1, 1])\n",
            "tensor([[91]])\n",
            "torch.Size([1, 106])\n"
          ]
        },
        {
          "output_type": "display_data",
          "data": {
            "image/png": "[encoded data removed]",
            "text/plain": [
              "<Figure size 432x288 with 1 Axes>"
            ]
          },
          "metadata": {
            "needs_background": "light"
          }
        }
      ]
    },
    {
      "cell_type": "code",
      "metadata": {
        "id": "medHDDFDig4Z",
        "colab": {
          "base_uri": "https://localhost:8080/"
        },
        "outputId": "bfeb65bf-c064-4aa6-e07e-fb438e1a15b3"
      },
      "source": [
        "!pip install pytorch_msssim"
      ],
      "execution_count": 7,
      "outputs": [
        {
          "output_type": "stream",
          "name": "stdout",
          "text": [
            "Collecting pytorch_msssim\n",
            "  Downloading pytorch_msssim-0.2.1-py3-none-any.whl (7.2 kB)\n",
            "Requirement already satisfied: torch in /usr/local/lib/python3.7/dist-packages (from pytorch_msssim) (1.9.0+cu111)\n",
            "Requirement already satisfied: typing-extensions in /usr/local/lib/python3.7/dist-packages (from torch->pytorch_msssim) (3.7.4.3)\n",
            "Installing collected packages: pytorch-msssim\n",
            "Successfully installed pytorch-msssim-0.2.1\n"
          ]
        }
      ]
    },
    {
      "cell_type": "code",
      "metadata": {
        "id": "9df28Adm3SU6"
      },
      "source": [
        "def mse(imageA, imageB):\n",
        "\t# the 'Mean Squared Error' between the two images is the\n",
        "\t# sum of the squared difference between the two images;\n",
        "\t# NOTE: the two images must have the same dimension\n",
        "\terr = np.sum((imageA.astype(\"float\") - imageB.astype(\"float\")) ** 2)\n",
        "\terr /= float(imageA.shape[0] * imageA.shape[1])\n",
        "\t\n",
        "\t# return the MSE, the lower the error, the more \"similar\"\n",
        "\t# the two images are\n",
        "\treturn err"
      ],
      "execution_count": 8,
      "outputs": []
    },
    {
      "cell_type": "code",
      "metadata": {
        "id": "33xlWqKYX7by",
        "colab": {
          "base_uri": "https://localhost:8080/",
          "height": 1000
        },
        "outputId": "a94b757c-6739-4b45-8bce-9ec87da6aec1"
      },
      "source": [
        "# generate dummy data and label\n",
        "import time\n",
        "import torch.nn.functional as F\n",
        "from pytorch_msssim import ssim\n",
        "from skimage.metrics import structural_similarity as ssim\n",
        "import matplotlib.pyplot as plt\n",
        "import numpy as np\n",
        "import cv2\n",
        "\n",
        "#print (ssim(0.43*torch.unsqueeze(gt_data[0],dim=0),torch.unsqueeze(gt_data[0],dim=0),data_range=0).item())\n",
        "#print (torch.dist(0.6*torch.unsqueeze(gt_data[0],dim=0),torch.unsqueeze(gt_data[0],dim=0),2).item())\n",
        "\n",
        "plt.imshow(tt(gt_data[0].cpu()),cmap='gray')\n",
        "\n",
        "mses = []\n",
        "ssims = []\n",
        "\n",
        "for item in range(1):\n",
        "    start = time.clock()\n",
        "    for rd in range(1):\n",
        "\n",
        "        torch.manual_seed(200*rd)\n",
        "        for ii in range(5):\n",
        "        # all random dummy init\n",
        "          dummy_data1 = torch.unsqueeze(torch.randn(gt_data[item].size()),0).to(device).requires_grad_(True)\n",
        "          \n",
        "          # all black dummy init\n",
        "          dummy_data2 = torch.unsqueeze(torch.zeros(gt_data[item].size()),0).to(device).requires_grad_(True)\n",
        "          \n",
        "          # all white dummy init\n",
        "          dummy_data3 = torch.unsqueeze(torch.ones(gt_data[item].size()),0).to(device).requires_grad_(True)\n",
        "\n",
        "          \n",
        "          #background = torch.unsqueeze(torch.zeros(gt_data[item].size()),0)\n",
        "          #background[0,0,::] = 1\n",
        "          #dummy_data = background.to(device).requires_grad_(True)\n",
        "          ##dummy_data = (torch.unsqueeze(torch.randn(gt_data[item].size()),0)+background).to(device).requires_grad_(True)\n",
        "          \n",
        "          #surrogate = torch.unsqueeze(gt_data[item+1],0)\n",
        "          #aaa = torch.rand([3,16,16])\n",
        "          #surrogate[0,:,8:24,8:24] =aaa\n",
        "          #dummy_data = surrogate.to(device).requires_grad_(True)    \n",
        "          \n",
        "          #dummy_data = torch.unsqueeze(gt_data[item+1],0).to(device).requires_grad_(True)\n",
        "          \n",
        "          #k = np.random.randint(0,95)\n",
        "          #dummy_data = torch.unsqueeze(gt_data[k],0).to(device).requires_grad_(True)\n",
        "          \n",
        "          ## original uncommented dummy_data initialisation in the repo - looks like patterened i.e. quadrants of a grid are the same\n",
        "          pat_1 = torch.rand([3,16,16])\n",
        "          pat_2 = torch.cat((pat_1,pat_1),dim=1)\n",
        "          pat_4 = torch.cat((pat_2,pat_2),dim=2)\n",
        "          dummy_data4 = torch.unsqueeze(pat_4,dim=0).to(device).requires_grad_(True)\n",
        "          \n",
        "          ## another dummy_data initialisation in the repo - even more patterened i.e. half-quadrants of a grid are the same\n",
        "          aaa = torch.rand([3,8,8])\n",
        "          bbb = torch.cat((aaa,aaa),dim=1)\n",
        "          ccc = torch.cat((bbb,bbb),dim=1)\n",
        "          ddd = torch.cat((ccc,ccc),dim=2)\n",
        "          eee = torch.cat((ddd,ddd),dim=2)\n",
        "          dummy_data5 = torch.unsqueeze(eee,dim=0).to(device).requires_grad_(True)\n",
        "          \n",
        "          #aaa = torch.rand([3,4,4])\n",
        "          #bbb = torch.cat((aaa,aaa),dim=1)\n",
        "          #ccc = torch.cat((bbb,bbb),dim=1)\n",
        "          #ddd = torch.cat((ccc,ccc),dim=1)\n",
        "          #eee = torch.cat((ddd,ddd),dim=2)\n",
        "          #fff = torch.cat((eee,eee),dim=2)\n",
        "          #ggg = torch.cat((fff,fff),dim=2)\n",
        "          #dummy_data = torch.unsqueeze(ggg,dim=0).to(device).requires_grad_(True)\n",
        "          initDataPossibilities = [dummy_data1,dummy_data2,dummy_data3,dummy_data4,dummy_data5]\n",
        "          dummy_data = initDataPossibilities[ii]\n",
        "          \n",
        "          #dummy_data = plt.imread(\"./attack_image/replacement_69.png\")\n",
        "          #print (dummy_data.shape)\n",
        "          #dummy_data = torch.FloatTensor(dummy_data).to(device)\n",
        "          #dummy_data = dummy_data.transpose(2,3).transpose(1,2)\n",
        "          \n",
        "          dummy_unsqueeze=torch.unsqueeze(gt_onehot_label[item],dim=0)\n",
        "          \n",
        "          dummy_label = torch.randn(dummy_unsqueeze.size()).to(device).requires_grad_(True)\n",
        "          label_pred=torch.argmin(torch.sum(original_dy_dx[item][-2], dim=-1), \n",
        "                                  dim=-1).detach().reshape((1,)).requires_grad_(False)\n",
        "          #print (original_dy_dx[item][-1].shape)\n",
        "          #print (original_dy_dx[item][-1].argmin())\n",
        "          \n",
        "          #print (torch.sum(original_dy_dx[item][-2], dim=-1).argmin())\n",
        "          \n",
        "          plt.imshow(tt(dummy_data[0].cpu()))\n",
        "          plt.title(\"Dummy data\")\n",
        "          #plt.savefig(\"./random_seed/index_%s_rand_seed_%s_label_%s\"%(item,rd,torch.argmax(dummy_label, dim=-1).item()))\n",
        "\n",
        "          plt.clf()\n",
        "          print(\"Dummy label is %d.\" % torch.argmax(dummy_label, dim=-1).item())\n",
        "          print(\"stolen label is %d.\" % label_pred.item())\n",
        "          \n",
        "          \n",
        "          #optimizer = torch.optim.LBFGS([dummy_data,dummy_label])\n",
        "          optimizer = torch.optim.LBFGS([dummy_data,])\n",
        "          #optimizer = torch.optim.AdamW([dummy_data,],lr=0.01)\n",
        "          #optimizer = torch.optim.SGD([dummy_data,],lr=0.01)\n",
        "        \n",
        "        \n",
        "\n",
        "          history = []\n",
        "          \n",
        "          percept_dis = np.zeros(300)\n",
        "          recover_dis = np.zeros(300)\n",
        "          for iters in range(100):\n",
        "              \n",
        "            \n",
        "              #percept_dis[iters]=ssim(dummy_data,torch.unsqueeze(gt_data[item],dim=0),data_range=0).item()\n",
        "              #recover_dis[iters]=torch.dist(dummy_data,torch.unsqueeze(gt_data[item],dim=0),2).item()\n",
        "            \n",
        "              history.append(tt(dummy_data[0].cpu()))\n",
        "              def closure():\n",
        "                  optimizer.zero_grad()\n",
        "\n",
        "                  pred = net(dummy_data) \n",
        "                  \n",
        "                  #dummy_onehot_label = F.softmax(dummy_label, dim=-1).long()\n",
        "                  \n",
        "                  #dummy_loss = criterion(pred, dummy_onehot_label) # TODO: fix the gt_label to dummy_label in both code and slides.\n",
        "                  ##print (pred)\n",
        "                  ##print (label_pred)\n",
        "              \n",
        "                  dummy_loss = criterion(pred, label_pred)\n",
        "                  dummy_dy_dx = torch.autograd.grad(dummy_loss, net.parameters(), create_graph=True)\n",
        "                  ##dummy_dy_dp = torch.autograd.grad(dummy_loss, dummy_data, create_graph=True)\n",
        "                  ##print (dummy_dy_dp[0].shape)  \n",
        "\n",
        "                  grad_diff = 0\n",
        "                  grad_count = 0\n",
        "                  #count =0\n",
        "                  for gx, gy in zip(dummy_dy_dx, original_dy_dx[item]): # TODO: fix the variablas here\n",
        "                    \n",
        "                      #if iters==500 or iters== 1200:\n",
        "                      #print (gx[0])\n",
        "                      #    print ('hahaha')\n",
        "                      #print (gy[0])\n",
        "                      lasso = torch.norm(dummy_data,p=1)\n",
        "                      ridge = torch.norm(dummy_data,p=2)\n",
        "                      grad_diff += ((gx - gy) ** 2).sum() #+ 0.0*lasso +0.01*ridge \n",
        "                      \n",
        "                      #print (gx.shape)\n",
        "\n",
        "                      grad_count += gx.nelement()\n",
        "                  \n",
        "\n",
        "                      #if count == 9:\n",
        "                      #    break\n",
        "                      #count=count+1\n",
        "                  # grad_diff = grad_diff / grad_count * 1000\n",
        "                  \n",
        "                  #grad_diff += ((original_pred[item]-pred)**2).sum()\n",
        "                \n",
        "                  \n",
        "                  \n",
        "                  \n",
        "                  grad_diff.backward()\n",
        "                  #print (count)\n",
        "\n",
        "                  #print (dummy_dy_dx)\n",
        "                  #print (original_dy_dx)\n",
        "\n",
        "\n",
        "                  return grad_diff\n",
        "\n",
        "\n",
        "\n",
        "              optimizer.step(closure)\n",
        "              if iters % 5 == 0: \n",
        "                  current_loss = closure()\n",
        "                  #if iters == 0: \n",
        "                  print (\"%.8f\" % current_loss.item())\n",
        "                  #print(iters, \"%.8f\" % current_loss.item())\n",
        "              history.append(tt(dummy_data[0].cpu()))\n",
        "\n",
        "          \n",
        "          \n",
        "          #plt.figure(figsize=(18, 12))\n",
        "          #for i in range(60):\n",
        "          #  plt.subplot(6, 10, i + 1)\n",
        "          #  plt.imshow(history[i * 5])\n",
        "          #  plt.title(\"iter=%d\" % (i * 5))\n",
        "          #  plt.axis('off')\n",
        "          \n",
        "          plt.figure(figsize=(20, 3))\n",
        "          #iter_idx = [0,20,40,60,80,100,120,140,160,180]\n",
        "          plt.figure(figsize=(20, 3))\n",
        "          #iter_idx = [0,1000,2000,3000,4000,5000]\n",
        "          iter_idx = [0,5,10,20,50,80,100]\n",
        "          \n",
        "\n",
        "          for i in range(7):\n",
        "            plt.subplot(1, 7, i + 1)\n",
        "            plt.imshow(history[iter_idx[i]])\n",
        "            plt.title(\"iter=%d\" % (iter_idx[i]))\n",
        "            plt.axis('off')\n",
        "          plt.show()\n",
        "          mses.append(F.mse_loss(gt_data[0, :], dummy_data[0, :]))\n",
        "          # ssims.append(ssim(gt_data[0],dummy_data[0],multichannel=True))  \n",
        "          #np.savetxt('ssim_random2',percept_dis,fmt=\"%4f\")\n",
        "          #np.savetxt('mse_random2',recover_dis,fmt=\"%4f\")\n",
        "          \n",
        "          #print(\"Dummy label is %d.\" % torch.argmax(dummy_label, dim=-1).item())\n",
        "          # plt.savefig(\"./attack_image/index_%s_rand_%s_label_%s\"%(item,rd, label_pred.item()))\n",
        "          #plt.clf()\n",
        "        \n",
        "    duration = time.clock()-start\n",
        "    #print (\"Running time is %.4f.\" %(duration/10.0) )\n",
        "    print (duration/10.0 )\n",
        "      \n",
        "          "
      ],
      "execution_count": 10,
      "outputs": [
        {
          "output_type": "stream",
          "name": "stderr",
          "text": [
            "/usr/local/lib/python3.7/dist-packages/ipykernel_launcher.py:19: DeprecationWarning: time.clock has been deprecated in Python 3.3 and will be removed from Python 3.8: use time.perf_counter or time.process_time instead\n"
          ]
        },
        {
          "output_type": "stream",
          "name": "stdout",
          "text": [
            "Dummy label is 10.\n",
            "stolen label is 91.\n",
            "27.22673798\n",
            "2.72974491\n",
            "0.56836170\n",
            "0.16440357\n",
            "0.05701837\n",
            "0.02444639\n",
            "0.01130537\n",
            "0.00593386\n",
            "0.00331589\n",
            "0.00183166\n",
            "0.00111326\n",
            "0.00068677\n",
            "0.00041464\n",
            "0.00025044\n",
            "0.00015451\n",
            "0.00009897\n",
            "0.00006512\n",
            "0.00004598\n",
            "0.00002977\n",
            "0.00001997\n"
          ]
        },
        {
          "output_type": "display_data",
          "data": {
            "text/plain": [
              "<Figure size 432x288 with 0 Axes>"
            ]
          },
          "metadata": {}
        },
        {
          "output_type": "display_data",
          "data": {
            "text/plain": [
              "<Figure size 1440x216 with 0 Axes>"
            ]
          },
          "metadata": {}
        },
        {
          "output_type": "display_data",
          "data": {
            "image/png": "[encoded data removed]",
            "text/plain": [
              "<Figure size 1440x216 with 7 Axes>"
            ]
          },
          "metadata": {
            "needs_background": "light"
          }
        },
        {
          "output_type": "stream",
          "name": "stdout",
          "text": [
            "Dummy label is 100.\n",
            "stolen label is 91.\n",
            "6.33553553\n",
            "0.02847251\n",
            "0.00573547\n",
            "0.00201327\n",
            "0.00088527\n",
            "0.00042232\n",
            "0.00022102\n",
            "0.00013201\n",
            "0.00008010\n",
            "0.00005038\n",
            "0.00003276\n",
            "0.00002151\n",
            "0.00001442\n",
            "0.00001014\n",
            "0.00000742\n",
            "0.00000530\n",
            "0.00000383\n",
            "0.00000285\n",
            "0.00000215\n",
            "0.00000163\n"
          ]
        },
        {
          "output_type": "display_data",
          "data": {
            "text/plain": [
              "<Figure size 432x288 with 0 Axes>"
            ]
          },
          "metadata": {}
        },
        {
          "output_type": "display_data",
          "data": {
            "text/plain": [
              "<Figure size 1440x216 with 0 Axes>"
            ]
          },
          "metadata": {}
        },
        {
          "output_type": "display_data",
          "data": {
            "image/png": "[encoded data removed]",
            "text/plain": [
              "<Figure size 1440x216 with 7 Axes>"
            ]
          },
          "metadata": {
            "needs_background": "light"
          }
        },
        {
          "output_type": "stream",
          "name": "stdout",
          "text": [
            "Dummy label is 31.\n",
            "stolen label is 91.\n",
            "5.16715813\n",
            "0.14617462\n",
            "0.03569117\n",
            "0.01195711\n",
            "0.00430007\n",
            "0.00189285\n",
            "0.00092470\n"
          ]
        },
        {
          "output_type": "error",
          "ename": "KeyboardInterrupt",
          "evalue": "ignored",
          "traceback": [
            "\u001b[0;31m---------------------------------------------------------------------------\u001b[0m",
            "\u001b[0;31mKeyboardInterrupt\u001b[0m                         Traceback (most recent call last)",
            "\u001b[0;32m<ipython-input-10-7803ea6bbc7a>\u001b[0m in \u001b[0;36m<module>\u001b[0;34m()\u001b[0m\n\u001b[1;32m    169\u001b[0m \u001b[0;34m\u001b[0m\u001b[0m\n\u001b[1;32m    170\u001b[0m \u001b[0;34m\u001b[0m\u001b[0m\n\u001b[0;32m--> 171\u001b[0;31m               \u001b[0moptimizer\u001b[0m\u001b[0;34m.\u001b[0m\u001b[0mstep\u001b[0m\u001b[0;34m(\u001b[0m\u001b[0mclosure\u001b[0m\u001b[0;34m)\u001b[0m\u001b[0;34m\u001b[0m\u001b[0;34m\u001b[0m\u001b[0m\n\u001b[0m\u001b[1;32m    172\u001b[0m               \u001b[0;32mif\u001b[0m \u001b[0miters\u001b[0m \u001b[0;34m%\u001b[0m \u001b[0;36m5\u001b[0m \u001b[0;34m==\u001b[0m \u001b[0;36m0\u001b[0m\u001b[0;34m:\u001b[0m\u001b[0;34m\u001b[0m\u001b[0;34m\u001b[0m\u001b[0m\n\u001b[1;32m    173\u001b[0m                   \u001b[0mcurrent_loss\u001b[0m \u001b[0;34m=\u001b[0m \u001b[0mclosure\u001b[0m\u001b[0;34m(\u001b[0m\u001b[0;34m)\u001b[0m\u001b[0;34m\u001b[0m\u001b[0;34m\u001b[0m\u001b[0m\n",
            "\u001b[0;32m/usr/local/lib/python3.7/dist-packages/torch/optim/optimizer.py\u001b[0m in \u001b[0;36mwrapper\u001b[0;34m(*args, **kwargs)\u001b[0m\n\u001b[1;32m     86\u001b[0m                 \u001b[0mprofile_name\u001b[0m \u001b[0;34m=\u001b[0m \u001b[0;34m\"Optimizer.step#{}.step\"\u001b[0m\u001b[0;34m.\u001b[0m\u001b[0mformat\u001b[0m\u001b[0;34m(\u001b[0m\u001b[0mobj\u001b[0m\u001b[0;34m.\u001b[0m\u001b[0m__class__\u001b[0m\u001b[0;34m.\u001b[0m\u001b[0m__name__\u001b[0m\u001b[0;34m)\u001b[0m\u001b[0;34m\u001b[0m\u001b[0;34m\u001b[0m\u001b[0m\n\u001b[1;32m     87\u001b[0m                 \u001b[0;32mwith\u001b[0m \u001b[0mtorch\u001b[0m\u001b[0;34m.\u001b[0m\u001b[0mautograd\u001b[0m\u001b[0;34m.\u001b[0m\u001b[0mprofiler\u001b[0m\u001b[0;34m.\u001b[0m\u001b[0mrecord_function\u001b[0m\u001b[0;34m(\u001b[0m\u001b[0mprofile_name\u001b[0m\u001b[0;34m)\u001b[0m\u001b[0;34m:\u001b[0m\u001b[0;34m\u001b[0m\u001b[0;34m\u001b[0m\u001b[0m\n\u001b[0;32m---> 88\u001b[0;31m                     \u001b[0;32mreturn\u001b[0m \u001b[0mfunc\u001b[0m\u001b[0;34m(\u001b[0m\u001b[0;34m*\u001b[0m\u001b[0margs\u001b[0m\u001b[0;34m,\u001b[0m \u001b[0;34m**\u001b[0m\u001b[0mkwargs\u001b[0m\u001b[0;34m)\u001b[0m\u001b[0;34m\u001b[0m\u001b[0;34m\u001b[0m\u001b[0m\n\u001b[0m\u001b[1;32m     89\u001b[0m             \u001b[0;32mreturn\u001b[0m \u001b[0mwrapper\u001b[0m\u001b[0;34m\u001b[0m\u001b[0;34m\u001b[0m\u001b[0m\n\u001b[1;32m     90\u001b[0m \u001b[0;34m\u001b[0m\u001b[0m\n",
            "\u001b[0;32m/usr/local/lib/python3.7/dist-packages/torch/autograd/grad_mode.py\u001b[0m in \u001b[0;36mdecorate_context\u001b[0;34m(*args, **kwargs)\u001b[0m\n\u001b[1;32m     26\u001b[0m         \u001b[0;32mdef\u001b[0m \u001b[0mdecorate_context\u001b[0m\u001b[0;34m(\u001b[0m\u001b[0;34m*\u001b[0m\u001b[0margs\u001b[0m\u001b[0;34m,\u001b[0m \u001b[0;34m**\u001b[0m\u001b[0mkwargs\u001b[0m\u001b[0;34m)\u001b[0m\u001b[0;34m:\u001b[0m\u001b[0;34m\u001b[0m\u001b[0;34m\u001b[0m\u001b[0m\n\u001b[1;32m     27\u001b[0m             \u001b[0;32mwith\u001b[0m \u001b[0mself\u001b[0m\u001b[0;34m.\u001b[0m\u001b[0m__class__\u001b[0m\u001b[0;34m(\u001b[0m\u001b[0;34m)\u001b[0m\u001b[0;34m:\u001b[0m\u001b[0;34m\u001b[0m\u001b[0;34m\u001b[0m\u001b[0m\n\u001b[0;32m---> 28\u001b[0;31m                 \u001b[0;32mreturn\u001b[0m \u001b[0mfunc\u001b[0m\u001b[0;34m(\u001b[0m\u001b[0;34m*\u001b[0m\u001b[0margs\u001b[0m\u001b[0;34m,\u001b[0m \u001b[0;34m**\u001b[0m\u001b[0mkwargs\u001b[0m\u001b[0;34m)\u001b[0m\u001b[0;34m\u001b[0m\u001b[0;34m\u001b[0m\u001b[0m\n\u001b[0m\u001b[1;32m     29\u001b[0m         \u001b[0;32mreturn\u001b[0m \u001b[0mcast\u001b[0m\u001b[0;34m(\u001b[0m\u001b[0mF\u001b[0m\u001b[0;34m,\u001b[0m \u001b[0mdecorate_context\u001b[0m\u001b[0;34m)\u001b[0m\u001b[0;34m\u001b[0m\u001b[0;34m\u001b[0m\u001b[0m\n\u001b[1;32m     30\u001b[0m \u001b[0;34m\u001b[0m\u001b[0m\n",
            "\u001b[0;32m/usr/local/lib/python3.7/dist-packages/torch/optim/lbfgs.py\u001b[0m in \u001b[0;36mstep\u001b[0;34m(self, closure)\u001b[0m\n\u001b[1;32m    435\u001b[0m                     \u001b[0;31m# no use to re-evaluate that function here\u001b[0m\u001b[0;34m\u001b[0m\u001b[0;34m\u001b[0m\u001b[0;34m\u001b[0m\u001b[0m\n\u001b[1;32m    436\u001b[0m                     \u001b[0;32mwith\u001b[0m \u001b[0mtorch\u001b[0m\u001b[0;34m.\u001b[0m\u001b[0menable_grad\u001b[0m\u001b[0;34m(\u001b[0m\u001b[0;34m)\u001b[0m\u001b[0;34m:\u001b[0m\u001b[0;34m\u001b[0m\u001b[0;34m\u001b[0m\u001b[0m\n\u001b[0;32m--> 437\u001b[0;31m                         \u001b[0mloss\u001b[0m \u001b[0;34m=\u001b[0m \u001b[0mfloat\u001b[0m\u001b[0;34m(\u001b[0m\u001b[0mclosure\u001b[0m\u001b[0;34m(\u001b[0m\u001b[0;34m)\u001b[0m\u001b[0;34m)\u001b[0m\u001b[0;34m\u001b[0m\u001b[0;34m\u001b[0m\u001b[0m\n\u001b[0m\u001b[1;32m    438\u001b[0m                     \u001b[0mflat_grad\u001b[0m \u001b[0;34m=\u001b[0m \u001b[0mself\u001b[0m\u001b[0;34m.\u001b[0m\u001b[0m_gather_flat_grad\u001b[0m\u001b[0;34m(\u001b[0m\u001b[0;34m)\u001b[0m\u001b[0;34m\u001b[0m\u001b[0;34m\u001b[0m\u001b[0m\n\u001b[1;32m    439\u001b[0m                     \u001b[0mopt_cond\u001b[0m \u001b[0;34m=\u001b[0m \u001b[0mflat_grad\u001b[0m\u001b[0;34m.\u001b[0m\u001b[0mabs\u001b[0m\u001b[0;34m(\u001b[0m\u001b[0;34m)\u001b[0m\u001b[0;34m.\u001b[0m\u001b[0mmax\u001b[0m\u001b[0;34m(\u001b[0m\u001b[0;34m)\u001b[0m \u001b[0;34m<=\u001b[0m \u001b[0mtolerance_grad\u001b[0m\u001b[0;34m\u001b[0m\u001b[0;34m\u001b[0m\u001b[0m\n",
            "\u001b[0;32m/usr/local/lib/python3.7/dist-packages/torch/autograd/grad_mode.py\u001b[0m in \u001b[0;36mdecorate_context\u001b[0;34m(*args, **kwargs)\u001b[0m\n\u001b[1;32m     26\u001b[0m         \u001b[0;32mdef\u001b[0m \u001b[0mdecorate_context\u001b[0m\u001b[0;34m(\u001b[0m\u001b[0;34m*\u001b[0m\u001b[0margs\u001b[0m\u001b[0;34m,\u001b[0m \u001b[0;34m**\u001b[0m\u001b[0mkwargs\u001b[0m\u001b[0;34m)\u001b[0m\u001b[0;34m:\u001b[0m\u001b[0;34m\u001b[0m\u001b[0;34m\u001b[0m\u001b[0m\n\u001b[1;32m     27\u001b[0m             \u001b[0;32mwith\u001b[0m \u001b[0mself\u001b[0m\u001b[0;34m.\u001b[0m\u001b[0m__class__\u001b[0m\u001b[0;34m(\u001b[0m\u001b[0;34m)\u001b[0m\u001b[0;34m:\u001b[0m\u001b[0;34m\u001b[0m\u001b[0;34m\u001b[0m\u001b[0m\n\u001b[0;32m---> 28\u001b[0;31m                 \u001b[0;32mreturn\u001b[0m \u001b[0mfunc\u001b[0m\u001b[0;34m(\u001b[0m\u001b[0;34m*\u001b[0m\u001b[0margs\u001b[0m\u001b[0;34m,\u001b[0m \u001b[0;34m**\u001b[0m\u001b[0mkwargs\u001b[0m\u001b[0;34m)\u001b[0m\u001b[0;34m\u001b[0m\u001b[0;34m\u001b[0m\u001b[0m\n\u001b[0m\u001b[1;32m     29\u001b[0m         \u001b[0;32mreturn\u001b[0m \u001b[0mcast\u001b[0m\u001b[0;34m(\u001b[0m\u001b[0mF\u001b[0m\u001b[0;34m,\u001b[0m \u001b[0mdecorate_context\u001b[0m\u001b[0;34m)\u001b[0m\u001b[0;34m\u001b[0m\u001b[0;34m\u001b[0m\u001b[0m\n\u001b[1;32m     30\u001b[0m \u001b[0;34m\u001b[0m\u001b[0m\n",
            "\u001b[0;32m<ipython-input-10-7803ea6bbc7a>\u001b[0m in \u001b[0;36mclosure\u001b[0;34m()\u001b[0m\n\u001b[1;32m    117\u001b[0m                   \u001b[0moptimizer\u001b[0m\u001b[0;34m.\u001b[0m\u001b[0mzero_grad\u001b[0m\u001b[0;34m(\u001b[0m\u001b[0;34m)\u001b[0m\u001b[0;34m\u001b[0m\u001b[0;34m\u001b[0m\u001b[0m\n\u001b[1;32m    118\u001b[0m \u001b[0;34m\u001b[0m\u001b[0m\n\u001b[0;32m--> 119\u001b[0;31m                   \u001b[0mpred\u001b[0m \u001b[0;34m=\u001b[0m \u001b[0mnet\u001b[0m\u001b[0;34m(\u001b[0m\u001b[0mdummy_data\u001b[0m\u001b[0;34m)\u001b[0m\u001b[0;34m\u001b[0m\u001b[0;34m\u001b[0m\u001b[0m\n\u001b[0m\u001b[1;32m    120\u001b[0m \u001b[0;34m\u001b[0m\u001b[0m\n\u001b[1;32m    121\u001b[0m                   \u001b[0;31m#dummy_onehot_label = F.softmax(dummy_label, dim=-1).long()\u001b[0m\u001b[0;34m\u001b[0m\u001b[0;34m\u001b[0m\u001b[0;34m\u001b[0m\u001b[0m\n",
            "\u001b[0;32m/usr/local/lib/python3.7/dist-packages/torch/nn/modules/module.py\u001b[0m in \u001b[0;36m_call_impl\u001b[0;34m(self, *input, **kwargs)\u001b[0m\n\u001b[1;32m   1049\u001b[0m         if not (self._backward_hooks or self._forward_hooks or self._forward_pre_hooks or _global_backward_hooks\n\u001b[1;32m   1050\u001b[0m                 or _global_forward_hooks or _global_forward_pre_hooks):\n\u001b[0;32m-> 1051\u001b[0;31m             \u001b[0;32mreturn\u001b[0m \u001b[0mforward_call\u001b[0m\u001b[0;34m(\u001b[0m\u001b[0;34m*\u001b[0m\u001b[0minput\u001b[0m\u001b[0;34m,\u001b[0m \u001b[0;34m**\u001b[0m\u001b[0mkwargs\u001b[0m\u001b[0;34m)\u001b[0m\u001b[0;34m\u001b[0m\u001b[0;34m\u001b[0m\u001b[0m\n\u001b[0m\u001b[1;32m   1052\u001b[0m         \u001b[0;31m# Do not call functions when jit is used\u001b[0m\u001b[0;34m\u001b[0m\u001b[0;34m\u001b[0m\u001b[0;34m\u001b[0m\u001b[0m\n\u001b[1;32m   1053\u001b[0m         \u001b[0mfull_backward_hooks\u001b[0m\u001b[0;34m,\u001b[0m \u001b[0mnon_full_backward_hooks\u001b[0m \u001b[0;34m=\u001b[0m \u001b[0;34m[\u001b[0m\u001b[0;34m]\u001b[0m\u001b[0;34m,\u001b[0m \u001b[0;34m[\u001b[0m\u001b[0;34m]\u001b[0m\u001b[0;34m\u001b[0m\u001b[0;34m\u001b[0m\u001b[0m\n",
            "\u001b[0;32m<ipython-input-3-b0a869e08e5e>\u001b[0m in \u001b[0;36mforward\u001b[0;34m(self, x)\u001b[0m\n\u001b[1;32m     80\u001b[0m \u001b[0;34m\u001b[0m\u001b[0m\n\u001b[1;32m     81\u001b[0m     \u001b[0;32mdef\u001b[0m \u001b[0mforward\u001b[0m\u001b[0;34m(\u001b[0m\u001b[0mself\u001b[0m\u001b[0;34m,\u001b[0m \u001b[0mx\u001b[0m\u001b[0;34m)\u001b[0m\u001b[0;34m:\u001b[0m\u001b[0;34m\u001b[0m\u001b[0;34m\u001b[0m\u001b[0m\n\u001b[0;32m---> 82\u001b[0;31m         \u001b[0mout\u001b[0m \u001b[0;34m=\u001b[0m \u001b[0mself\u001b[0m\u001b[0;34m.\u001b[0m\u001b[0mbody\u001b[0m\u001b[0;34m(\u001b[0m\u001b[0mx\u001b[0m\u001b[0;34m)\u001b[0m\u001b[0;34m\u001b[0m\u001b[0;34m\u001b[0m\u001b[0m\n\u001b[0m\u001b[1;32m     83\u001b[0m         \u001b[0mout\u001b[0m \u001b[0;34m=\u001b[0m \u001b[0mout\u001b[0m\u001b[0;34m.\u001b[0m\u001b[0mview\u001b[0m\u001b[0;34m(\u001b[0m\u001b[0mout\u001b[0m\u001b[0;34m.\u001b[0m\u001b[0msize\u001b[0m\u001b[0;34m(\u001b[0m\u001b[0;36m0\u001b[0m\u001b[0;34m)\u001b[0m\u001b[0;34m,\u001b[0m \u001b[0;34m-\u001b[0m\u001b[0;36m1\u001b[0m\u001b[0;34m)\u001b[0m\u001b[0;34m\u001b[0m\u001b[0;34m\u001b[0m\u001b[0m\n\u001b[1;32m     84\u001b[0m         \u001b[0;31m# print(out.size())\u001b[0m\u001b[0;34m\u001b[0m\u001b[0;34m\u001b[0m\u001b[0;34m\u001b[0m\u001b[0m\n",
            "\u001b[0;32m/usr/local/lib/python3.7/dist-packages/torch/nn/modules/module.py\u001b[0m in \u001b[0;36m_call_impl\u001b[0;34m(self, *input, **kwargs)\u001b[0m\n\u001b[1;32m   1049\u001b[0m         if not (self._backward_hooks or self._forward_hooks or self._forward_pre_hooks or _global_backward_hooks\n\u001b[1;32m   1050\u001b[0m                 or _global_forward_hooks or _global_forward_pre_hooks):\n\u001b[0;32m-> 1051\u001b[0;31m             \u001b[0;32mreturn\u001b[0m \u001b[0mforward_call\u001b[0m\u001b[0;34m(\u001b[0m\u001b[0;34m*\u001b[0m\u001b[0minput\u001b[0m\u001b[0;34m,\u001b[0m \u001b[0;34m**\u001b[0m\u001b[0mkwargs\u001b[0m\u001b[0;34m)\u001b[0m\u001b[0;34m\u001b[0m\u001b[0;34m\u001b[0m\u001b[0m\n\u001b[0m\u001b[1;32m   1052\u001b[0m         \u001b[0;31m# Do not call functions when jit is used\u001b[0m\u001b[0;34m\u001b[0m\u001b[0;34m\u001b[0m\u001b[0;34m\u001b[0m\u001b[0m\n\u001b[1;32m   1053\u001b[0m         \u001b[0mfull_backward_hooks\u001b[0m\u001b[0;34m,\u001b[0m \u001b[0mnon_full_backward_hooks\u001b[0m \u001b[0;34m=\u001b[0m \u001b[0;34m[\u001b[0m\u001b[0;34m]\u001b[0m\u001b[0;34m,\u001b[0m \u001b[0;34m[\u001b[0m\u001b[0;34m]\u001b[0m\u001b[0;34m\u001b[0m\u001b[0;34m\u001b[0m\u001b[0m\n",
            "\u001b[0;32m/usr/local/lib/python3.7/dist-packages/torch/nn/modules/container.py\u001b[0m in \u001b[0;36mforward\u001b[0;34m(self, input)\u001b[0m\n\u001b[1;32m    137\u001b[0m     \u001b[0;32mdef\u001b[0m \u001b[0mforward\u001b[0m\u001b[0;34m(\u001b[0m\u001b[0mself\u001b[0m\u001b[0;34m,\u001b[0m \u001b[0minput\u001b[0m\u001b[0;34m)\u001b[0m\u001b[0;34m:\u001b[0m\u001b[0;34m\u001b[0m\u001b[0;34m\u001b[0m\u001b[0m\n\u001b[1;32m    138\u001b[0m         \u001b[0;32mfor\u001b[0m \u001b[0mmodule\u001b[0m \u001b[0;32min\u001b[0m \u001b[0mself\u001b[0m\u001b[0;34m:\u001b[0m\u001b[0;34m\u001b[0m\u001b[0;34m\u001b[0m\u001b[0m\n\u001b[0;32m--> 139\u001b[0;31m             \u001b[0minput\u001b[0m \u001b[0;34m=\u001b[0m \u001b[0mmodule\u001b[0m\u001b[0;34m(\u001b[0m\u001b[0minput\u001b[0m\u001b[0;34m)\u001b[0m\u001b[0;34m\u001b[0m\u001b[0;34m\u001b[0m\u001b[0m\n\u001b[0m\u001b[1;32m    140\u001b[0m         \u001b[0;32mreturn\u001b[0m \u001b[0minput\u001b[0m\u001b[0;34m\u001b[0m\u001b[0;34m\u001b[0m\u001b[0m\n\u001b[1;32m    141\u001b[0m \u001b[0;34m\u001b[0m\u001b[0m\n",
            "\u001b[0;31mKeyboardInterrupt\u001b[0m: "
          ]
        },
        {
          "output_type": "display_data",
          "data": {
            "text/plain": [
              "<Figure size 432x288 with 0 Axes>"
            ]
          },
          "metadata": {}
        }
      ]
    },
    {
      "cell_type": "code",
      "metadata": {
        "id": "L73kbxrE3qd7"
      },
      "source": [
        ""
      ],
      "execution_count": null,
      "outputs": []
    },
    {
      "cell_type": "code",
      "metadata": {
        "id": "jWIbBjVPVLeq"
      },
      "source": [
        "# generate dummy data and label\n",
        "import time\n",
        " \n",
        "from pytorch_msssim import ssim\n",
        "\n",
        "\n",
        "#print (ssim(0.43*torch.unsqueeze(gt_data[0],dim=0),torch.unsqueeze(gt_data[0],dim=0),data_range=0).item())\n",
        "#print (torch.dist(0.6*torch.unsqueeze(gt_data[0],dim=0),torch.unsqueeze(gt_data[0],dim=0),2).item())\n",
        "\n",
        "\n",
        "for item in range(1):\n",
        "    start = time.clock()\n",
        "    for rd in range(1):\n",
        "\n",
        "        torch.manual_seed(200*rd)\n",
        "\n",
        "        # all random dummy init\n",
        "        #dummy_data = torch.unsqueeze(torch.randn(gt_data[item].size()),0).to(device).requires_grad_(True)\n",
        "        \n",
        "        # all black dummy init\n",
        "        #dummy_data = torch.unsqueeze(torch.zeros(gt_data[item].size()),0).to(device).requires_grad_(True)\n",
        "        \n",
        "        # all white dummy init\n",
        "        dummy_data = torch.unsqueeze(torch.ones(gt_data[item].size()),0).to(device).requires_grad_(True)\n",
        "\n",
        "        \n",
        "        #background = torch.unsqueeze(torch.zeros(gt_data[item].size()),0)\n",
        "        #background[0,0,::] = 1\n",
        "        #dummy_data = background.to(device).requires_grad_(True)\n",
        "        ##dummy_data = (torch.unsqueeze(torch.randn(gt_data[item].size()),0)+background).to(device).requires_grad_(True)\n",
        "        \n",
        "        #surrogate = torch.unsqueeze(gt_data[item+1],0)\n",
        "        #aaa = torch.rand([3,16,16])\n",
        "        #surrogate[0,:,8:24,8:24] =aaa\n",
        "        #dummy_data = surrogate.to(device).requires_grad_(True)    \n",
        "        \n",
        "        #dummy_data = torch.unsqueeze(gt_data[item+1],0).to(device).requires_grad_(True)\n",
        "        \n",
        "        #k = np.random.randint(0,95)\n",
        "        #dummy_data = torch.unsqueeze(gt_data[k],0).to(device).requires_grad_(True)\n",
        "        \n",
        "        ## original uncommented dummy_data initialisation in the repo - looks like patterened i.e. quadrants of a grid are the same\n",
        "        # pat_1 = torch.rand([3,16,16])\n",
        "        # pat_2 = torch.cat((pat_1,pat_1),dim=1)\n",
        "        # pat_4 = torch.cat((pat_2,pat_2),dim=2)\n",
        "        # dummy_data = torch.unsqueeze(pat_4,dim=0).to(device).requires_grad_(True)\n",
        "        \n",
        "        ## original uncommented dummy_data initialisation in the repo - looks like patterened i.e. half-quadrants of a grid are the same\n",
        "        #aaa = torch.rand([3,8,8])\n",
        "        #bbb = torch.cat((aaa,aaa),dim=1)\n",
        "        #ccc = torch.cat((bbb,bbb),dim=1)\n",
        "        #ddd = torch.cat((ccc,ccc),dim=2)\n",
        "        #eee = torch.cat((ddd,ddd),dim=2)\n",
        "        #dummy_data = torch.unsqueeze(eee,dim=0).to(device).requires_grad_(True)\n",
        "        \n",
        "        #aaa = torch.rand([3,4,4])\n",
        "        #bbb = torch.cat((aaa,aaa),dim=1)\n",
        "        #ccc = torch.cat((bbb,bbb),dim=1)\n",
        "        #ddd = torch.cat((ccc,ccc),dim=1)\n",
        "        #eee = torch.cat((ddd,ddd),dim=2)\n",
        "        #fff = torch.cat((eee,eee),dim=2)\n",
        "        #ggg = torch.cat((fff,fff),dim=2)\n",
        "        #dummy_data = torch.unsqueeze(ggg,dim=0).to(device).requires_grad_(True)\n",
        "        \n",
        "        \n",
        "        #dummy_data = plt.imread(\"./attack_image/replacement_69.png\")\n",
        "        #print (dummy_data.shape)\n",
        "        #dummy_data = torch.FloatTensor(dummy_data).to(device)\n",
        "        #dummy_data = dummy_data.transpose(2,3).transpose(1,2)\n",
        "        \n",
        "        dummy_unsqueeze=torch.unsqueeze(gt_onehot_label[item],dim=0)\n",
        "        \n",
        "        dummy_label = torch.randn(dummy_unsqueeze.size()).to(device).requires_grad_(True)\n",
        "        label_pred=torch.argmin(torch.sum(original_dy_dx[item][-2], dim=-1), \n",
        "                                dim=-1).detach().reshape((1,)).requires_grad_(False)\n",
        "        #print (original_dy_dx[item][-1].shape)\n",
        "        #print (original_dy_dx[item][-1].argmin())\n",
        "        \n",
        "        #print (torch.sum(original_dy_dx[item][-2], dim=-1).argmin())\n",
        "        \n",
        "        plt.imshow(tt(dummy_data[0].cpu()))\n",
        "        plt.title(\"Dummy data\")\n",
        "        #plt.savefig(\"./random_seed/index_%s_rand_seed_%s_label_%s\"%(item,rd,torch.argmax(dummy_label, dim=-1).item()))\n",
        "\n",
        "        plt.clf()\n",
        "        print(\"Dummy label is %d.\" % torch.argmax(dummy_label, dim=-1).item())\n",
        "        print(\"stolen label is %d.\" % label_pred.item())\n",
        "        \n",
        "        \n",
        "        #optimizer = torch.optim.LBFGS([dummy_data,dummy_label])\n",
        "        optimizer = torch.optim.LBFGS([dummy_data,])\n",
        "        #optimizer = torch.optim.AdamW([dummy_data,],lr=0.01)\n",
        "        #optimizer = torch.optim.SGD([dummy_data,],lr=0.01)\n",
        "      \n",
        "       \n",
        "\n",
        "        history = []\n",
        "        \n",
        "        percept_dis = np.zeros(300)\n",
        "        recover_dis = np.zeros(300)\n",
        "        for iters in range(100):\n",
        "            \n",
        "          \n",
        "            #percept_dis[iters]=ssim(dummy_data,torch.unsqueeze(gt_data[item],dim=0),data_range=0).item()\n",
        "            #recover_dis[iters]=torch.dist(dummy_data,torch.unsqueeze(gt_data[item],dim=0),2).item()\n",
        "           \n",
        "            history.append(tt(dummy_data[0].cpu()))\n",
        "            def closure():\n",
        "                optimizer.zero_grad()\n",
        "\n",
        "                pred = net(dummy_data) \n",
        "                \n",
        "                #dummy_onehot_label = F.softmax(dummy_label, dim=-1).long()\n",
        "                \n",
        "                #dummy_loss = criterion(pred, dummy_onehot_label) # TODO: fix the gt_label to dummy_label in both code and slides.\n",
        "                ##print (pred)\n",
        "                ##print (label_pred)\n",
        "            \n",
        "                dummy_loss = criterion(pred, label_pred)\n",
        "                dummy_dy_dx = torch.autograd.grad(dummy_loss, net.parameters(), create_graph=True)\n",
        "                ##dummy_dy_dp = torch.autograd.grad(dummy_loss, dummy_data, create_graph=True)\n",
        "                ##print (dummy_dy_dp[0].shape)  \n",
        "\n",
        "                grad_diff = 0\n",
        "                grad_count = 0\n",
        "                #count =0\n",
        "                for gx, gy in zip(dummy_dy_dx, original_dy_dx[item]): # TODO: fix the variablas here\n",
        "                   \n",
        "                    #if iters==500 or iters== 1200:\n",
        "                    #print (gx[0])\n",
        "                    #    print ('hahaha')\n",
        "                    #print (gy[0])\n",
        "                    lasso = torch.norm(dummy_data,p=1)\n",
        "                    ridge = torch.norm(dummy_data,p=2)\n",
        "                    grad_diff += ((gx - gy) ** 2).sum() #+ 0.0*lasso +0.01*ridge \n",
        "                    \n",
        "                    #print (gx.shape)\n",
        "\n",
        "                    grad_count += gx.nelement()\n",
        "                \n",
        "\n",
        "                    #if count == 9:\n",
        "                    #    break\n",
        "                    #count=count+1\n",
        "                # grad_diff = grad_diff / grad_count * 1000\n",
        "                \n",
        "                #grad_diff += ((original_pred[item]-pred)**2).sum()\n",
        "               \n",
        "                \n",
        "                \n",
        "                \n",
        "                grad_diff.backward()\n",
        "                #print (count)\n",
        "\n",
        "                #print (dummy_dy_dx)\n",
        "                #print (original_dy_dx)\n",
        "\n",
        "\n",
        "                return grad_diff\n",
        "\n",
        "\n",
        "\n",
        "            optimizer.step(closure)\n",
        "            if iters % 5 == 0: \n",
        "                current_loss = closure()\n",
        "                #if iters == 0: \n",
        "                print (\"%.8f\" % current_loss.item())\n",
        "                #print(iters, \"%.8f\" % current_loss.item())\n",
        "            history.append(tt(dummy_data[0].cpu()))\n",
        "\n",
        "        \n",
        "        \n",
        "        #plt.figure(figsize=(18, 12))\n",
        "        #for i in range(60):\n",
        "        #  plt.subplot(6, 10, i + 1)\n",
        "        #  plt.imshow(history[i * 5])\n",
        "        #  plt.title(\"iter=%d\" % (i * 5))\n",
        "        #  plt.axis('off')\n",
        "        \n",
        "        plt.figure(figsize=(12, 1.5))\n",
        "        #iter_idx = [0,20,40,60,80,100,120,140,160,180]\n",
        "        plt.figure(figsize=(6.5, 1.2))\n",
        "        #iter_idx = [0,1000,2000,3000,4000,5000]\n",
        "        iter_idx = [0,5,10,20,50]\n",
        "        \n",
        "\n",
        "        for i in range(5):\n",
        "          plt.subplot(1, 6, i + 1)\n",
        "          plt.imshow(history[iter_idx[i]])\n",
        "          plt.title(\"iter=%d\" % (iter_idx[i]))\n",
        "          plt.axis('off')\n",
        "            \n",
        "        #np.savetxt('ssim_random2',percept_dis,fmt=\"%4f\")\n",
        "        #np.savetxt('mse_random2',recover_dis,fmt=\"%4f\")\n",
        "        \n",
        "        #print(\"Dummy label is %d.\" % torch.argmax(dummy_label, dim=-1).item())\n",
        "        # plt.savefig(\"./attack_image/index_%s_rand_%s_label_%s\"%(item,rd, label_pred.item()))\n",
        "        #plt.clf()\n",
        "       \n",
        "    duration = time.clock()-start\n",
        "    #print (\"Running time is %.4f.\" %(duration/10.0) )\n",
        "    print (duration/10.0 )\n",
        "    \n",
        "        "
      ],
      "execution_count": null,
      "outputs": []
    },
    {
      "cell_type": "code",
      "metadata": {
        "id": "aokP-jhal96-"
      },
      "source": [
        "plt.figure(figsize=(12, 8))\n",
        "for i in range(60):\n",
        "  plt.subplot(6, 10, i + 1)\n",
        "  plt.imshow(history[i * 5])\n",
        "  plt.title(\"iter=%d\" % (i * 5))\n",
        "  plt.axis('off')\n",
        "print(\"Dummy label is %d.\" % torch.argmax(dummy_label, dim=-1).item())"
      ],
      "execution_count": null,
      "outputs": []
    },
    {
      "cell_type": "code",
      "metadata": {
        "id": "wLqYf9jrh1Eg"
      },
      "source": [
        "plt.figure(figsize=(12, 8))\n",
        "for j in range(batch):\n",
        "    for i in range(60):\n",
        "      plt.subplot(6, 10, i + 1)\n",
        "      plt.imshow(history_batch[i * 5+j])\n",
        "      plt.title(\"iter=%d\" % (i * 5+ j))\n",
        "      plt.axis('off')\n",
        "print(\"Dummy label is %d.\" % torch.argmax(dummy_label, dim=-1).item())"
      ],
      "execution_count": null,
      "outputs": []
    },
    {
      "cell_type": "code",
      "metadata": {
        "id": "g6s-doXQh1Eg"
      },
      "source": [
        "\n",
        "from keras.datasets import mnist, cifar10, cifar100, fashion_mnist\n",
        "from matplotlib import pyplot\n",
        "# load dataset\n",
        "datasetsToShow = [mnist, cifar10, cifar100, fashion_mnist]\n",
        "\n",
        "for dataset in datasetsToShow:\n",
        "  (trainX, trainy), (testX, testy) = dataset.load_data()\n",
        "  # summarize loaded dataset\n",
        "  print('Train: X=%s, y=%s' % (trainX.shape, trainy.shape))\n",
        "  print('Test: X=%s, y=%s' % (testX.shape, testy.shape))\n",
        "  # plot first few images\n",
        "  for i in range(9):\n",
        "    # define subplot\n",
        "    pyplot.subplot(330 + 1 + i)\n",
        "    # plot raw pixel data\n",
        "    pyplot.imshow(trainX[i], cmap=pyplot.get_cmap('gray'))\n",
        "    pyplot.axis('off')\n",
        "    # pyplot.title(f'Class : { trainy[i] }')\n",
        "  # show the figure\n",
        "  # pyplot.show()\n",
        "\n",
        "# (X_train, trainy), (testX, testy) = dataset.load_data()\n",
        "# summarize loaded dataset\n",
        "# print('Train: X=%s, y=%s' % (trainX.shape, trainy.shape))\n",
        "# print('Test: X=%s, y=%s' % (testX.shape, testy.shape))\n",
        "# plot first few images\n",
        "for i in range(9):\n",
        "  # define subplot\n",
        "  pyplot.subplot(330 + 1 + i)\n",
        "  # plot raw pixel data\n",
        "  pyplot.imshow(X_train[i], cmap=pyplot.get_cmap('gray'))\n",
        "  pyplot.axis('off')\n",
        "  # pyplot.title(f'Class : { trainy[i] }')\n",
        "# show the figure\n",
        "pyplot.show()"
      ],
      "execution_count": null,
      "outputs": []
    },
    {
      "cell_type": "code",
      "metadata": {
        "id": "I_oeX3_uPTzv"
      },
      "source": [
        ""
      ],
      "execution_count": null,
      "outputs": []
    },
    {
      "cell_type": "code",
      "metadata": {
        "id": "tAW_IeSblG4C",
        "colab": {
          "base_uri": "https://localhost:8080/",
          "height": 1000
        },
        "outputId": "d6e206e8-b46c-4f57-c4ec-48005f038318"
      },
      "source": [
        "## Mega loop to generate all batchsize and client iteration combos\n",
        "import itertools\n",
        "import torch.nn.functional as F\n",
        "\n",
        "grandssimNmses = []\n",
        "iter_ = 0\n",
        "batch_size = [1,5,10,20,32]\n",
        "maxiters = [1,2,5,10,20,50]\n",
        "\n",
        "combos = [[1,5,10,20,32],[1,2,5,10,20,50]]\n",
        "combos = list(itertools.product(*combos)) \n",
        "\n",
        "for currbatchsize, curriterlim in combos:\n",
        "  results = [currbatchsize, curriterlim]\n",
        "  for epoch in range(0):\n",
        "\n",
        "      for i,data in enumerate(trainloader,0):\n",
        "    \n",
        "          #if epoch>=1:\n",
        "            if i==curriterlim:\n",
        "              break\n",
        "            iter_=iter_+1\n",
        "            #print (iter_)\n",
        "            inputs,label = data\n",
        "\n",
        "            inputs,label =  Variable(inputs),Variable(label) \n",
        "\n",
        "            optimizer_train.zero_grad()\n",
        "\n",
        "\n",
        "            outputs_benign=net(inputs)\n",
        "            #outputs_benign = F.softmax(outputs_benign, dim=-1)\n",
        "            #print (outputs_benign[0])\n",
        "\n",
        "\n",
        "            loss_benign =  criterion_train(outputs_benign,label)\n",
        "\n",
        "            #print(\"loss computed\")\n",
        "            loss_benign.backward()\n",
        "            #print(\"loss BP\")\n",
        "            optimizer_train.step()\n",
        "\n",
        "            #if i%2000==0:\n",
        "            print (loss_benign.item())\n",
        "            #torch.save(net.state_dict(),'./LFW_net.pth')  \n",
        "        \n",
        "    \n",
        "  print ('fininshed training')\n",
        "  total = len(y_test)\n",
        "  acc =0.0\n",
        "  for ct in range(total):\n",
        "      testing_data = tt(testing[ct][0].cpu())\n",
        "      testing_data1 = tp(testing_data).to(device)\n",
        "      testing_data2 = testing_data1.view(1, *testing_data1.size())\n",
        "      y_pred = net(testing_data2)\n",
        "      predicted = torch.argmax(y_pred)\n",
        "    \n",
        "      if predicted == y_test[ct]:\n",
        "          acc=acc+1\n",
        "  accuracy = acc / total\n",
        "  print (accuracy)\n",
        "  print ('fininshed testing')\n",
        "\n",
        "\n",
        "\n",
        "  ######### honest partipant #########\n",
        "  img_index = 26   #use img_index\n",
        "  dst_pil = tt(dst_tensor[img_index][0].cpu())   #use img_index\n",
        "\n",
        "  gt_data = tp(dst_pil).to(device)\n",
        "  gt_data = torch.unsqueeze(gt_data,0)\n",
        "\n",
        "  gt_label = dst_tensor[img_index][1].long().to(device) #use img_index\n",
        "  gt_label = gt_label.view(1, )\n",
        "  gt_onehot_label = label_to_onehot(gt_label, num_classes=106)\n",
        "\n",
        "  plt.imshow(dst_pil)\n",
        "  #plt.savefig(\"./original/index_%s_label_%s\"%(img_index,gt_label.item()))\n",
        "\n",
        "\n",
        "\n",
        "  batch = currbatchsize  #\n",
        "  for bat in range(batch-1):\n",
        "      dst_pil = tt(dst_tensor[img_index+1+bat][0].cpu())   #use img_index\n",
        "      tmp = torch.unsqueeze(tp(dst_pil).to(device),0)\n",
        "      #print(tmp.shape)\n",
        "      gt_data = torch.cat((gt_data,tmp),0)\n",
        "      \n",
        "      gt_label_tmp = dst_tensor[img_index+1+bat][1].long().to(device) #use img_index\n",
        "      gt_label_tmp = gt_label_tmp.view(1, )\n",
        "      gt_label = torch.cat((gt_label,gt_label_tmp),0)\n",
        "      gt_onehot_label = torch.cat((gt_onehot_label,label_to_onehot(gt_label_tmp, num_classes=106)),0)\n",
        "      \n",
        "      if gt_label_tmp ==60:\n",
        "          print (bat)\n",
        "\n",
        "      plt.imshow(dst_pil)\n",
        "      #plt.savefig(\"./original/index_%s_label_%s\"%(bat+1,gt_label_tmp.item()))\n",
        "      \n",
        "      #plt.title(\"Ground truth image\")\n",
        "      #print(\"GT label is %d.\" % gt_label.item(), \"\\nOnehot label is %d.\" % torch.argmax(gt_onehot_label, dim=-1).item())\n",
        "\n",
        "      \n",
        "  gt_label = torch.reshape(gt_label,(-1,1))    \n",
        "  print (gt_data.shape)\n",
        "  print (gt_label.shape)\n",
        "  print (gt_label)\n",
        "  print (gt_onehot_label.shape)\n",
        "\n",
        "  plt.imshow(tt(gt_data[0].cpu()),cmap='gray')\n",
        "  # plt.axis('off')\n",
        "  # plt.savefig(\"./attack_image/tifs\")\n",
        "\n",
        "\n",
        "  # compute original gradient \n",
        "  dy_dx = []\n",
        "  original_dy_dx=[]\n",
        "  original_pred = []\n",
        "  for item in range(batch):\n",
        "      gt_data_single = torch.unsqueeze(gt_data[item],0)\n",
        "      out = net(gt_data_single)\n",
        "      #y = criterion(out, gt_onehot_label[item])\n",
        "      y = criterion(out, gt_label[item])\n",
        "      dy_dx = torch.autograd.grad(y, net.parameters(),retain_graph=True)\n",
        "      original_dy_dx_tmp = list((_.detach().clone() for _ in dy_dx))\n",
        "      original_dy_dx.append(original_dy_dx_tmp)\n",
        "      out_tmp = out.detach().clone()\n",
        "      original_pred.append(out_tmp)\n",
        "      \n",
        "      \n",
        "      #dy_dx.append(torch.autograd.grad(y, net.parameters()))\n",
        "\n",
        "      \n",
        "      \n",
        "  # #FOR fully-connected model only\n",
        "  #     dw = net.body[0].weight\n",
        "  #     db = net.body[0].bias\n",
        "  #     dy_dw = torch.autograd.grad(y, dw,retain_graph=True)\n",
        "  #     dy_db = torch.autograd.grad(y, db,retain_graph=True)\n",
        "\n",
        "  #     print (dy_dw)\n",
        "  #     #print (dy_db.shape)\n",
        "\n",
        "  #     leak=dy_dw/dy_db\n",
        "\n",
        "  #     print (leak.shape)\n",
        "      \n",
        "\n",
        "\n",
        "  # share the gradients with other clients\n",
        "  #original_dy_dx = list((_.detach().clone() for _ in dy_dx))\n",
        "\n",
        "\n",
        "  # generate dummy data and label\n",
        "  import time\n",
        "  \n",
        "  from pytorch_msssim import ssim\n",
        "\n",
        "\n",
        "  #print (ssim(0.43*torch.unsqueeze(gt_data[0],dim=0),torch.unsqueeze(gt_data[0],dim=0),data_range=0).item())\n",
        "  #print (torch.dist(0.6*torch.unsqueeze(gt_data[0],dim=0),torch.unsqueeze(gt_data[0],dim=0),2).item())\n",
        "\n",
        "\n",
        "  for item in range(1):\n",
        "      start = time.clock()\n",
        "      for rd in range(1):\n",
        "\n",
        "          torch.manual_seed(200*curriterlim)\n",
        "          for ii in range(1):\n",
        "          # all random dummy init\n",
        "            dummy_data1 = torch.unsqueeze(torch.randn(gt_data[item].size()),0).to(device).requires_grad_(True)\n",
        "            \n",
        "            # all black dummy init\n",
        "            dummy_data2 = torch.unsqueeze(torch.zeros(gt_data[item].size()),0).to(device).requires_grad_(True)\n",
        "            \n",
        "            # all white dummy init\n",
        "            dummy_data3 = torch.unsqueeze(torch.ones(gt_data[item].size()),0).to(device).requires_grad_(True)\n",
        "\n",
        "            \n",
        "            #background = torch.unsqueeze(torch.zeros(gt_data[item].size()),0)\n",
        "            #background[0,0,::] = 1\n",
        "            #dummy_data = background.to(device).requires_grad_(True)\n",
        "            ##dummy_data = (torch.unsqueeze(torch.randn(gt_data[item].size()),0)+background).to(device).requires_grad_(True)\n",
        "            \n",
        "            #surrogate = torch.unsqueeze(gt_data[item+1],0)\n",
        "            #aaa = torch.rand([3,16,16])\n",
        "            #surrogate[0,:,8:24,8:24] =aaa\n",
        "            #dummy_data = surrogate.to(device).requires_grad_(True)    \n",
        "            \n",
        "            #dummy_data = torch.unsqueeze(gt_data[item+1],0).to(device).requires_grad_(True)\n",
        "            \n",
        "            #k = np.random.randint(0,95)\n",
        "            #dummy_data = torch.unsqueeze(gt_data[k],0).to(device).requires_grad_(True)\n",
        "            \n",
        "            ## original uncommented dummy_data initialisation in the repo - looks like patterened i.e. quadrants of a grid are the same\n",
        "            pat_1 = torch.rand([3,16,16])\n",
        "            pat_2 = torch.cat((pat_1,pat_1),dim=1)\n",
        "            pat_4 = torch.cat((pat_2,pat_2),dim=2)\n",
        "            dummy_data4 = torch.unsqueeze(pat_4,dim=0).to(device).requires_grad_(True)\n",
        "            \n",
        "            ## another dummy_data initialisation in the repo - even more patterened i.e. half-quadrants of a grid are the same\n",
        "            aaa = torch.rand([3,8,8])\n",
        "            bbb = torch.cat((aaa,aaa),dim=1)\n",
        "            ccc = torch.cat((bbb,bbb),dim=1)\n",
        "            ddd = torch.cat((ccc,ccc),dim=2)\n",
        "            eee = torch.cat((ddd,ddd),dim=2)\n",
        "            dummy_data5 = torch.unsqueeze(eee,dim=0).to(device).requires_grad_(True)\n",
        "            \n",
        "            #aaa = torch.rand([3,4,4])\n",
        "            #bbb = torch.cat((aaa,aaa),dim=1)\n",
        "            #ccc = torch.cat((bbb,bbb),dim=1)\n",
        "            #ddd = torch.cat((ccc,ccc),dim=1)\n",
        "            #eee = torch.cat((ddd,ddd),dim=2)\n",
        "            #fff = torch.cat((eee,eee),dim=2)\n",
        "            #ggg = torch.cat((fff,fff),dim=2)\n",
        "            #dummy_data = torch.unsqueeze(ggg,dim=0).to(device).requires_grad_(True)\n",
        "            initDataPossibilities = [dummy_data1,dummy_data2,dummy_data3,dummy_data4,dummy_data5]\n",
        "            dummy_data = initDataPossibilities[0]\n",
        "            \n",
        "            #dummy_data = plt.imread(\"./attack_image/replacement_69.png\")\n",
        "            #print (dummy_data.shape)\n",
        "            #dummy_data = torch.FloatTensor(dummy_data).to(device)\n",
        "            #dummy_data = dummy_data.transpose(2,3).transpose(1,2)\n",
        "            \n",
        "            dummy_unsqueeze=torch.unsqueeze(gt_onehot_label[item],dim=0)\n",
        "            \n",
        "            dummy_label = torch.randn(dummy_unsqueeze.size()).to(device).requires_grad_(True)\n",
        "            label_pred=torch.argmin(torch.sum(original_dy_dx[item][-2], dim=-1), \n",
        "                                    dim=-1).detach().reshape((1,)).requires_grad_(False)\n",
        "            #print (original_dy_dx[item][-1].shape)\n",
        "            #print (original_dy_dx[item][-1].argmin())\n",
        "            \n",
        "            #print (torch.sum(original_dy_dx[item][-2], dim=-1).argmin())\n",
        "            \n",
        "            plt.imshow(tt(dummy_data[0].cpu()))\n",
        "            plt.title(\"Dummy data\")\n",
        "            #plt.savefig(\"./random_seed/index_%s_rand_seed_%s_label_%s\"%(item,rd,torch.argmax(dummy_label, dim=-1).item()))\n",
        "\n",
        "            plt.clf()\n",
        "            print(\"Dummy label is %d.\" % torch.argmax(dummy_label, dim=-1).item())\n",
        "            print(\"stolen label is %d.\" % label_pred.item())\n",
        "            \n",
        "            \n",
        "            #optimizer = torch.optim.LBFGS([dummy_data,dummy_label])\n",
        "            optimizer = torch.optim.LBFGS([dummy_data,])\n",
        "            #optimizer = torch.optim.AdamW([dummy_data,],lr=0.01)\n",
        "            #optimizer = torch.optim.SGD([dummy_data,],lr=0.01)\n",
        "          \n",
        "          \n",
        "\n",
        "            history = []\n",
        "            mses = []\n",
        "            \n",
        "            percept_dis = np.zeros(300)\n",
        "            recover_dis = np.zeros(300)\n",
        "            for iters in range(100):\n",
        "                \n",
        "              \n",
        "                percept_dis[iters]=ssim(dummy_data,torch.unsqueeze(gt_data[item],dim=0),data_range=0).item()\n",
        "                #recover_dis[iters]=torch.dist(dummy_data,torch.unsqueeze(gt_data[item],dim=0),2).item()\n",
        "                mses.append(F.mse_loss(gt_data[0, :], dummy_data[0, :]))\n",
        "                         \n",
        "                history.append(tt(dummy_data[0].cpu()))\n",
        "                def closure():\n",
        "                    optimizer.zero_grad()\n",
        "\n",
        "                    pred = net(dummy_data) \n",
        "                    \n",
        "                    #dummy_onehot_label = F.softmax(dummy_label, dim=-1).long()\n",
        "                    \n",
        "                    #dummy_loss = criterion(pred, dummy_onehot_label) # TODO: fix the gt_label to dummy_label in both code and slides.\n",
        "                    ##print (pred)\n",
        "                    ##print (label_pred)\n",
        "                \n",
        "                    dummy_loss = criterion(pred, label_pred)\n",
        "                    dummy_dy_dx = torch.autograd.grad(dummy_loss, net.parameters(), create_graph=True)\n",
        "                    ##dummy_dy_dp = torch.autograd.grad(dummy_loss, dummy_data, create_graph=True)\n",
        "                    ##print (dummy_dy_dp[0].shape)  \n",
        "\n",
        "                    grad_diff = 0\n",
        "                    grad_count = 0\n",
        "                    #count =0\n",
        "                    for gx, gy in zip(dummy_dy_dx, original_dy_dx[item]): # TODO: fix the variablas here\n",
        "                      \n",
        "                        #if iters==500 or iters== 1200:\n",
        "                        #print (gx[0])\n",
        "                        #    print ('hahaha')\n",
        "                        #print (gy[0])\n",
        "                        lasso = torch.norm(dummy_data,p=1)\n",
        "                        ridge = torch.norm(dummy_data,p=2)\n",
        "                        grad_diff += ((gx - gy) ** 2).sum() #+ 0.0*lasso +0.01*ridge \n",
        "                        \n",
        "                        #print (gx.shape)\n",
        "\n",
        "                        grad_count += gx.nelement()\n",
        "                    \n",
        "\n",
        "                        #if count == 9:\n",
        "                        #    break\n",
        "                        #count=count+1\n",
        "                    # grad_diff = grad_diff / grad_count * 1000\n",
        "                    \n",
        "                    #grad_diff += ((original_pred[item]-pred)**2).sum()\n",
        "                  \n",
        "                    \n",
        "                    \n",
        "                    \n",
        "                    grad_diff.backward()\n",
        "                    #print (count)\n",
        "\n",
        "                    #print (dummy_dy_dx)\n",
        "                    #print (original_dy_dx)\n",
        "\n",
        "\n",
        "                    return grad_diff\n",
        "\n",
        "\n",
        "\n",
        "                optimizer.step(closure)\n",
        "                if iters % 5 == 0: \n",
        "                    current_loss = closure()\n",
        "                    #if iters == 0: \n",
        "                    print (\"%.8f\" % current_loss.item())\n",
        "                    #print(iters, \"%.8f\" % current_loss.item())\n",
        "                \n",
        "                history.append(tt(dummy_data[0].cpu()))\n",
        "\n",
        "            \n",
        "            \n",
        "            #plt.figure(figsize=(18, 12))\n",
        "            #for i in range(60):\n",
        "            #  plt.subplot(6, 10, i + 1)\n",
        "            #  plt.imshow(history[i * 5])\n",
        "            #  plt.title(\"iter=%d\" % (i * 5))\n",
        "            #  plt.axis('off')\n",
        "            \n",
        "            plt.figure(figsize=(20, 3))\n",
        "            #iter_idx = [0,20,40,60,80,100,120,140,160,180]\n",
        "            plt.figure(figsize=(20, 3))\n",
        "            #iter_idx = [0,1000,2000,3000,4000,5000]\n",
        "            iter_idx = [0,5,10,20,50,80,100]\n",
        "            \n",
        "\n",
        "            # for i in range(7):\n",
        "            #   plt.subplot(1, 7, i + 1)\n",
        "            plt.imshow(history[100])\n",
        "            plt.title(\"iter=%d, batchsize=%d, client iters=%d\" %(100,currbatchsize,curriterlim))\n",
        "            plt.axis('off')\n",
        "            plt.show()    \n",
        "            #np.savetxt('ssim_random2',percept_dis,fmt=\"%4f\")\n",
        "            #np.savetxt('mse_random2',recover_dis,fmt=\"%4f\")\n",
        "            \n",
        "            #print(\"Dummy label is %d.\" % torch.argmax(dummy_label, dim=-1).item())\n",
        "            # plt.savefig(\"./attack_image/index_%s_rand_%s_label_%s\"%(item,rd, label_pred.item()))\n",
        "            #plt.clf()\n",
        "            results.append(percept_dis[99])\n",
        "            results.append(mses[99])\n",
        "      duration = time.clock()-start\n",
        "      #print (\"Running time is %.4f.\" %(duration/10.0) )\n",
        "      print (duration/10.0 )\n",
        "        \n",
        "      grandssimNmses.append(results)      \n"
      ],
      "execution_count": 14,
      "outputs": [
        {
          "output_type": "stream",
          "name": "stdout",
          "text": [
            "fininshed training\n",
            "0.008565310492505354\n",
            "fininshed testing\n",
            "torch.Size([1, 3, 32, 32])\n",
            "torch.Size([1, 1])\n",
            "tensor([[91]])\n",
            "torch.Size([1, 106])\n",
            "Dummy label is 4.\n",
            "stolen label is 91.\n"
          ]
        },
        {
          "output_type": "stream",
          "name": "stderr",
          "text": [
            "/usr/local/lib/python3.7/dist-packages/ipykernel_launcher.py:165: DeprecationWarning: time.clock has been deprecated in Python 3.3 and will be removed from Python 3.8: use time.perf_counter or time.process_time instead\n"
          ]
        },
        {
          "output_type": "stream",
          "name": "stdout",
          "text": [
            "2.49842358\n",
            "0.02439949\n",
            "0.00504213\n",
            "0.00181704\n",
            "0.00080547\n",
            "0.00037730\n",
            "0.00021800\n",
            "0.00012536\n",
            "0.00007487\n",
            "0.00004850\n",
            "0.00003064\n",
            "0.00001940\n",
            "0.00001313\n",
            "0.00000959\n",
            "0.00000726\n",
            "0.00000548\n",
            "0.00000421\n",
            "0.00000324\n",
            "0.00000264\n",
            "0.00000216\n"
          ]
        },
        {
          "output_type": "display_data",
          "data": {
            "text/plain": [
              "<Figure size 432x288 with 0 Axes>"
            ]
          },
          "metadata": {}
        },
        {
          "output_type": "display_data",
          "data": {
            "text/plain": [
              "<Figure size 1440x216 with 0 Axes>"
            ]
          },
          "metadata": {}
        },
        {
          "output_type": "display_data",
          "data": {
            "image/png": "[encoded data removed]",
            "text/plain": [
              "<Figure size 1440x216 with 1 Axes>"
            ]
          },
          "metadata": {
            "needs_background": "light"
          }
        },
        {
          "output_type": "stream",
          "name": "stderr",
          "text": [
            "/usr/local/lib/python3.7/dist-packages/ipykernel_launcher.py:358: DeprecationWarning: time.clock has been deprecated in Python 3.3 and will be removed from Python 3.8: use time.perf_counter or time.process_time instead\n"
          ]
        },
        {
          "output_type": "stream",
          "name": "stdout",
          "text": [
            "2.0753652000000047\n",
            "fininshed training\n",
            "0.008565310492505354\n",
            "fininshed testing\n",
            "torch.Size([1, 3, 32, 32])\n",
            "torch.Size([1, 1])\n",
            "tensor([[91]])\n",
            "torch.Size([1, 106])\n",
            "Dummy label is 41.\n",
            "stolen label is 91.\n",
            "2.36516929\n",
            "0.02564195\n",
            "0.00523309\n",
            "0.00194835\n",
            "0.00085668\n",
            "0.00044306\n",
            "0.00022576\n",
            "0.00013415\n",
            "0.00007983\n",
            "0.00004805\n",
            "0.00003101\n",
            "0.00002131\n",
            "0.00001407\n",
            "0.00000953\n",
            "0.00000646\n",
            "0.00000452\n",
            "0.00000326\n",
            "0.00000241\n",
            "0.00000185\n",
            "0.00000141\n"
          ]
        },
        {
          "output_type": "display_data",
          "data": {
            "text/plain": [
              "<Figure size 432x288 with 0 Axes>"
            ]
          },
          "metadata": {}
        },
        {
          "output_type": "display_data",
          "data": {
            "text/plain": [
              "<Figure size 1440x216 with 0 Axes>"
            ]
          },
          "metadata": {}
        },
        {
          "output_type": "display_data",
          "data": {
            "image/png": "[encoded data removed]",
            "text/plain": [
              "<Figure size 1440x216 with 1 Axes>"
            ]
          },
          "metadata": {
            "needs_background": "light"
          }
        },
        {
          "output_type": "stream",
          "name": "stdout",
          "text": [
            "2.0981369000000085\n",
            "fininshed training\n",
            "0.008565310492505354\n",
            "fininshed testing\n",
            "torch.Size([1, 3, 32, 32])\n",
            "torch.Size([1, 1])\n",
            "tensor([[91]])\n",
            "torch.Size([1, 106])\n",
            "Dummy label is 55.\n",
            "stolen label is 91.\n",
            "2.39066005\n",
            "0.03065680\n",
            "0.00627174\n",
            "0.00222127\n",
            "0.00088646\n",
            "0.00043853\n",
            "0.00023530\n",
            "0.00013683\n",
            "0.00007961\n",
            "0.00004739\n",
            "0.00002974\n",
            "0.00001853\n",
            "0.00001283\n",
            "0.00000890\n",
            "0.00000626\n",
            "0.00000447\n",
            "0.00000321\n",
            "0.00000243\n",
            "0.00000179\n",
            "0.00000136\n"
          ]
        },
        {
          "output_type": "display_data",
          "data": {
            "text/plain": [
              "<Figure size 432x288 with 0 Axes>"
            ]
          },
          "metadata": {}
        },
        {
          "output_type": "display_data",
          "data": {
            "text/plain": [
              "<Figure size 1440x216 with 0 Axes>"
            ]
          },
          "metadata": {}
        },
        {
          "output_type": "display_data",
          "data": {
            "image/png": "[encoded data removed]",
            "text/plain": [
              "<Figure size 1440x216 with 1 Axes>"
            ]
          },
          "metadata": {
            "needs_background": "light"
          }
        },
        {
          "output_type": "stream",
          "name": "stdout",
          "text": [
            "2.0867332999999917\n",
            "fininshed training\n",
            "0.008565310492505354\n",
            "fininshed testing\n",
            "torch.Size([1, 3, 32, 32])\n",
            "torch.Size([1, 1])\n",
            "tensor([[91]])\n",
            "torch.Size([1, 106])\n",
            "Dummy label is 73.\n",
            "stolen label is 91.\n",
            "2.63250828\n",
            "0.03058195\n",
            "0.00624019\n",
            "0.00240136\n",
            "0.00100555\n",
            "0.00047240\n",
            "0.00022773\n",
            "0.00012678\n",
            "0.00007534\n",
            "0.00004636\n",
            "0.00002994\n",
            "0.00001976\n",
            "0.00001280\n",
            "0.00000857\n",
            "0.00000580\n",
            "0.00000404\n",
            "0.00000284\n",
            "0.00000209\n",
            "0.00000162\n",
            "0.00000125\n"
          ]
        },
        {
          "output_type": "display_data",
          "data": {
            "text/plain": [
              "<Figure size 432x288 with 0 Axes>"
            ]
          },
          "metadata": {}
        },
        {
          "output_type": "display_data",
          "data": {
            "text/plain": [
              "<Figure size 1440x216 with 0 Axes>"
            ]
          },
          "metadata": {}
        },
        {
          "output_type": "display_data",
          "data": {
            "image/png": "[encoded data removed]",
            "text/plain": [
              "<Figure size 1440x216 with 1 Axes>"
            ]
          },
          "metadata": {
            "needs_background": "light"
          }
        },
        {
          "output_type": "stream",
          "name": "stdout",
          "text": [
            "2.0891523000000007\n",
            "fininshed training\n",
            "0.008565310492505354\n",
            "fininshed testing\n",
            "torch.Size([1, 3, 32, 32])\n",
            "torch.Size([1, 1])\n",
            "tensor([[91]])\n",
            "torch.Size([1, 106])\n",
            "Dummy label is 4.\n",
            "stolen label is 91.\n",
            "2.65198183\n",
            "0.02514395\n",
            "0.00556237\n",
            "0.00198252\n",
            "0.00079634\n",
            "0.00040500\n",
            "0.00022608\n",
            "0.00013243\n",
            "0.00007824\n",
            "0.00005075\n",
            "0.00003251\n",
            "0.00002188\n",
            "0.00001509\n",
            "0.00001025\n",
            "0.00000708\n",
            "0.00000486\n",
            "0.00000339\n",
            "0.00000246\n",
            "0.00000183\n",
            "0.00000139\n"
          ]
        },
        {
          "output_type": "display_data",
          "data": {
            "text/plain": [
              "<Figure size 432x288 with 0 Axes>"
            ]
          },
          "metadata": {}
        },
        {
          "output_type": "display_data",
          "data": {
            "text/plain": [
              "<Figure size 1440x216 with 0 Axes>"
            ]
          },
          "metadata": {}
        },
        {
          "output_type": "display_data",
          "data": {
            "image/png": "[encoded data removed]",
            "text/plain": [
              "<Figure size 1440x216 with 1 Axes>"
            ]
          },
          "metadata": {
            "needs_background": "light"
          }
        },
        {
          "output_type": "stream",
          "name": "stdout",
          "text": [
            "2.082320100000004\n",
            "fininshed training\n",
            "0.008565310492505354\n",
            "fininshed testing\n",
            "torch.Size([1, 3, 32, 32])\n",
            "torch.Size([1, 1])\n",
            "tensor([[91]])\n",
            "torch.Size([1, 106])\n",
            "Dummy label is 43.\n",
            "stolen label is 91.\n",
            "2.94767547\n",
            "0.02850852\n",
            "0.00567329\n",
            "0.00194564\n",
            "0.00082664\n",
            "0.00039755\n",
            "0.00022731\n",
            "0.00013138\n",
            "0.00008470\n",
            "0.00005401\n",
            "0.00003481\n",
            "0.00002293\n",
            "0.00001507\n",
            "0.00001036\n",
            "0.00000721\n",
            "0.00000510\n",
            "0.00000374\n",
            "0.00000285\n",
            "0.00000218\n",
            "0.00000181\n"
          ]
        },
        {
          "output_type": "display_data",
          "data": {
            "text/plain": [
              "<Figure size 432x288 with 0 Axes>"
            ]
          },
          "metadata": {}
        },
        {
          "output_type": "display_data",
          "data": {
            "text/plain": [
              "<Figure size 1440x216 with 0 Axes>"
            ]
          },
          "metadata": {}
        },
        {
          "output_type": "display_data",
          "data": {
            "image/png": "[encoded data removed]",
            "text/plain": [
              "<Figure size 1440x216 with 1 Axes>"
            ]
          },
          "metadata": {
            "needs_background": "light"
          }
        },
        {
          "output_type": "stream",
          "name": "stdout",
          "text": [
            "2.0875675\n",
            "fininshed training\n",
            "0.008565310492505354\n",
            "fininshed testing\n",
            "torch.Size([5, 3, 32, 32])\n",
            "torch.Size([5, 1])\n",
            "tensor([[91],\n",
            "        [37],\n",
            "        [21],\n",
            "        [ 7],\n",
            "        [36]])\n",
            "torch.Size([5, 106])\n",
            "Dummy label is 4.\n",
            "stolen label is 91.\n",
            "2.49842358\n",
            "0.02439949\n",
            "0.00504213\n",
            "0.00181704\n",
            "0.00080547\n",
            "0.00037730\n",
            "0.00021800\n",
            "0.00012536\n",
            "0.00007487\n",
            "0.00004850\n",
            "0.00003064\n",
            "0.00001940\n",
            "0.00001313\n",
            "0.00000959\n",
            "0.00000726\n",
            "0.00000548\n",
            "0.00000421\n",
            "0.00000324\n",
            "0.00000264\n",
            "0.00000216\n"
          ]
        },
        {
          "output_type": "display_data",
          "data": {
            "text/plain": [
              "<Figure size 432x288 with 0 Axes>"
            ]
          },
          "metadata": {}
        },
        {
          "output_type": "display_data",
          "data": {
            "text/plain": [
              "<Figure size 1440x216 with 0 Axes>"
            ]
          },
          "metadata": {}
        },
        {
          "output_type": "display_data",
          "data": {
            "image/png": "[encoded data removed]",
            "text/plain": [
              "<Figure size 1440x216 with 1 Axes>"
            ]
          },
          "metadata": {
            "needs_background": "light"
          }
        },
        {
          "output_type": "stream",
          "name": "stdout",
          "text": [
            "2.0858551999999917\n",
            "fininshed training\n",
            "0.008565310492505354\n",
            "fininshed testing\n",
            "torch.Size([5, 3, 32, 32])\n",
            "torch.Size([5, 1])\n",
            "tensor([[91],\n",
            "        [37],\n",
            "        [21],\n",
            "        [ 7],\n",
            "        [36]])\n",
            "torch.Size([5, 106])\n",
            "Dummy label is 41.\n",
            "stolen label is 91.\n",
            "2.36516929\n",
            "0.02564195\n",
            "0.00523309\n",
            "0.00194835\n",
            "0.00085668\n",
            "0.00044306\n",
            "0.00022576\n",
            "0.00013415\n",
            "0.00007983\n",
            "0.00004805\n",
            "0.00003101\n",
            "0.00002131\n",
            "0.00001407\n",
            "0.00000953\n",
            "0.00000646\n",
            "0.00000452\n",
            "0.00000326\n",
            "0.00000241\n",
            "0.00000185\n",
            "0.00000141\n"
          ]
        },
        {
          "output_type": "display_data",
          "data": {
            "text/plain": [
              "<Figure size 432x288 with 0 Axes>"
            ]
          },
          "metadata": {}
        },
        {
          "output_type": "display_data",
          "data": {
            "text/plain": [
              "<Figure size 1440x216 with 0 Axes>"
            ]
          },
          "metadata": {}
        },
        {
          "output_type": "display_data",
          "data": {
            "image/png": "[encoded data removed]",
            "text/plain": [
              "<Figure size 1440x216 with 1 Axes>"
            ]
          },
          "metadata": {
            "needs_background": "light"
          }
        },
        {
          "output_type": "stream",
          "name": "stdout",
          "text": [
            "2.086789999999996\n",
            "fininshed training\n",
            "0.008565310492505354\n",
            "fininshed testing\n",
            "torch.Size([5, 3, 32, 32])\n",
            "torch.Size([5, 1])\n",
            "tensor([[91],\n",
            "        [37],\n",
            "        [21],\n",
            "        [ 7],\n",
            "        [36]])\n",
            "torch.Size([5, 106])\n",
            "Dummy label is 55.\n",
            "stolen label is 91.\n",
            "2.39066005\n",
            "0.03065680\n",
            "0.00627174\n",
            "0.00222127\n",
            "0.00088646\n",
            "0.00043853\n",
            "0.00023530\n",
            "0.00013683\n",
            "0.00007961\n",
            "0.00004739\n",
            "0.00002974\n",
            "0.00001853\n",
            "0.00001283\n",
            "0.00000890\n",
            "0.00000626\n",
            "0.00000447\n",
            "0.00000321\n",
            "0.00000243\n",
            "0.00000179\n",
            "0.00000136\n"
          ]
        },
        {
          "output_type": "display_data",
          "data": {
            "text/plain": [
              "<Figure size 432x288 with 0 Axes>"
            ]
          },
          "metadata": {}
        },
        {
          "output_type": "display_data",
          "data": {
            "text/plain": [
              "<Figure size 1440x216 with 0 Axes>"
            ]
          },
          "metadata": {}
        },
        {
          "output_type": "display_data",
          "data": {
            "image/png": "[encoded data removed]",
            "text/plain": [
              "<Figure size 1440x216 with 1 Axes>"
            ]
          },
          "metadata": {
            "needs_background": "light"
          }
        },
        {
          "output_type": "stream",
          "name": "stdout",
          "text": [
            "2.0832258000000023\n",
            "fininshed training\n",
            "0.008565310492505354\n",
            "fininshed testing\n",
            "torch.Size([5, 3, 32, 32])\n",
            "torch.Size([5, 1])\n",
            "tensor([[91],\n",
            "        [37],\n",
            "        [21],\n",
            "        [ 7],\n",
            "        [36]])\n",
            "torch.Size([5, 106])\n",
            "Dummy label is 73.\n",
            "stolen label is 91.\n",
            "2.63250828\n",
            "0.03058195\n",
            "0.00624019\n",
            "0.00240136\n",
            "0.00100555\n",
            "0.00047240\n",
            "0.00022773\n",
            "0.00012678\n",
            "0.00007534\n",
            "0.00004636\n",
            "0.00002994\n",
            "0.00001976\n",
            "0.00001280\n",
            "0.00000857\n",
            "0.00000580\n",
            "0.00000404\n",
            "0.00000284\n",
            "0.00000209\n",
            "0.00000162\n",
            "0.00000125\n"
          ]
        },
        {
          "output_type": "display_data",
          "data": {
            "text/plain": [
              "<Figure size 432x288 with 0 Axes>"
            ]
          },
          "metadata": {}
        },
        {
          "output_type": "display_data",
          "data": {
            "text/plain": [
              "<Figure size 1440x216 with 0 Axes>"
            ]
          },
          "metadata": {}
        },
        {
          "output_type": "display_data",
          "data": {
            "image/png": "[encoded data removed]",
            "text/plain": [
              "<Figure size 1440x216 with 1 Axes>"
            ]
          },
          "metadata": {
            "needs_background": "light"
          }
        },
        {
          "output_type": "stream",
          "name": "stdout",
          "text": [
            "2.047941800000001\n",
            "fininshed training\n",
            "0.008565310492505354\n",
            "fininshed testing\n",
            "torch.Size([5, 3, 32, 32])\n",
            "torch.Size([5, 1])\n",
            "tensor([[91],\n",
            "        [37],\n",
            "        [21],\n",
            "        [ 7],\n",
            "        [36]])\n",
            "torch.Size([5, 106])\n",
            "Dummy label is 4.\n",
            "stolen label is 91.\n",
            "2.65198183\n",
            "0.02514395\n",
            "0.00556237\n",
            "0.00198252\n",
            "0.00079634\n",
            "0.00040500\n",
            "0.00022608\n",
            "0.00013243\n",
            "0.00007824\n",
            "0.00005075\n",
            "0.00003251\n",
            "0.00002188\n",
            "0.00001509\n",
            "0.00001025\n",
            "0.00000708\n",
            "0.00000486\n",
            "0.00000339\n",
            "0.00000246\n",
            "0.00000183\n",
            "0.00000139\n"
          ]
        },
        {
          "output_type": "display_data",
          "data": {
            "text/plain": [
              "<Figure size 432x288 with 0 Axes>"
            ]
          },
          "metadata": {}
        },
        {
          "output_type": "display_data",
          "data": {
            "text/plain": [
              "<Figure size 1440x216 with 0 Axes>"
            ]
          },
          "metadata": {}
        },
        {
          "output_type": "display_data",
          "data": {
            "image/png": "[encoded data removed]",
            "text/plain": [
              "<Figure size 1440x216 with 1 Axes>"
            ]
          },
          "metadata": {
            "needs_background": "light"
          }
        },
        {
          "output_type": "stream",
          "name": "stdout",
          "text": [
            "2.0669172999999885\n",
            "fininshed training\n",
            "0.008565310492505354\n",
            "fininshed testing\n",
            "torch.Size([5, 3, 32, 32])\n",
            "torch.Size([5, 1])\n",
            "tensor([[91],\n",
            "        [37],\n",
            "        [21],\n",
            "        [ 7],\n",
            "        [36]])\n",
            "torch.Size([5, 106])\n",
            "Dummy label is 43.\n",
            "stolen label is 91.\n",
            "2.94767547\n",
            "0.02850852\n",
            "0.00567329\n",
            "0.00194564\n",
            "0.00082664\n",
            "0.00039755\n",
            "0.00022731\n",
            "0.00013138\n",
            "0.00008470\n",
            "0.00005401\n",
            "0.00003481\n",
            "0.00002293\n",
            "0.00001507\n",
            "0.00001036\n",
            "0.00000721\n",
            "0.00000510\n",
            "0.00000374\n",
            "0.00000285\n",
            "0.00000218\n",
            "0.00000181\n"
          ]
        },
        {
          "output_type": "display_data",
          "data": {
            "text/plain": [
              "<Figure size 432x288 with 0 Axes>"
            ]
          },
          "metadata": {}
        },
        {
          "output_type": "display_data",
          "data": {
            "text/plain": [
              "<Figure size 1440x216 with 0 Axes>"
            ]
          },
          "metadata": {}
        },
        {
          "output_type": "display_data",
          "data": {
            "image/png": "[encoded data removed]",
            "text/plain": [
              "<Figure size 1440x216 with 1 Axes>"
            ]
          },
          "metadata": {
            "needs_background": "light"
          }
        },
        {
          "output_type": "stream",
          "name": "stdout",
          "text": [
            "2.0731335000000057\n",
            "fininshed training\n",
            "0.008565310492505354\n",
            "fininshed testing\n",
            "torch.Size([10, 3, 32, 32])\n",
            "torch.Size([10, 1])\n",
            "tensor([[91],\n",
            "        [37],\n",
            "        [21],\n",
            "        [ 7],\n",
            "        [36],\n",
            "        [32],\n",
            "        [25],\n",
            "        [65],\n",
            "        [50],\n",
            "        [83]])\n",
            "torch.Size([10, 106])\n",
            "Dummy label is 4.\n",
            "stolen label is 91.\n",
            "2.49842358\n",
            "0.02439949\n",
            "0.00504213\n",
            "0.00181704\n",
            "0.00080547\n",
            "0.00037730\n",
            "0.00021800\n",
            "0.00012536\n",
            "0.00007487\n",
            "0.00004850\n",
            "0.00003064\n",
            "0.00001940\n",
            "0.00001313\n",
            "0.00000959\n",
            "0.00000726\n",
            "0.00000548\n",
            "0.00000421\n",
            "0.00000324\n",
            "0.00000264\n",
            "0.00000216\n"
          ]
        },
        {
          "output_type": "display_data",
          "data": {
            "text/plain": [
              "<Figure size 432x288 with 0 Axes>"
            ]
          },
          "metadata": {}
        },
        {
          "output_type": "display_data",
          "data": {
            "text/plain": [
              "<Figure size 1440x216 with 0 Axes>"
            ]
          },
          "metadata": {}
        },
        {
          "output_type": "display_data",
          "data": {
            "image/png": "[encoded data removed]",
            "text/plain": [
              "<Figure size 1440x216 with 1 Axes>"
            ]
          },
          "metadata": {
            "needs_background": "light"
          }
        },
        {
          "output_type": "stream",
          "name": "stdout",
          "text": [
            "2.0425208999999995\n",
            "fininshed training\n",
            "0.008565310492505354\n",
            "fininshed testing\n",
            "torch.Size([10, 3, 32, 32])\n",
            "torch.Size([10, 1])\n",
            "tensor([[91],\n",
            "        [37],\n",
            "        [21],\n",
            "        [ 7],\n",
            "        [36],\n",
            "        [32],\n",
            "        [25],\n",
            "        [65],\n",
            "        [50],\n",
            "        [83]])\n",
            "torch.Size([10, 106])\n",
            "Dummy label is 41.\n",
            "stolen label is 91.\n",
            "2.36516929\n",
            "0.02564195\n",
            "0.00523309\n",
            "0.00194835\n",
            "0.00085668\n",
            "0.00044306\n",
            "0.00022576\n",
            "0.00013415\n",
            "0.00007983\n",
            "0.00004805\n",
            "0.00003101\n",
            "0.00002131\n",
            "0.00001407\n",
            "0.00000953\n",
            "0.00000646\n",
            "0.00000452\n",
            "0.00000326\n",
            "0.00000241\n",
            "0.00000185\n",
            "0.00000141\n"
          ]
        },
        {
          "output_type": "display_data",
          "data": {
            "text/plain": [
              "<Figure size 432x288 with 0 Axes>"
            ]
          },
          "metadata": {}
        },
        {
          "output_type": "display_data",
          "data": {
            "text/plain": [
              "<Figure size 1440x216 with 0 Axes>"
            ]
          },
          "metadata": {}
        },
        {
          "output_type": "display_data",
          "data": {
            "image/png": "[encoded data removed]",
            "text/plain": [
              "<Figure size 1440x216 with 1 Axes>"
            ]
          },
          "metadata": {
            "needs_background": "light"
          }
        },
        {
          "output_type": "stream",
          "name": "stdout",
          "text": [
            "2.0673381000000064\n",
            "fininshed training\n",
            "0.008565310492505354\n",
            "fininshed testing\n",
            "torch.Size([10, 3, 32, 32])\n",
            "torch.Size([10, 1])\n",
            "tensor([[91],\n",
            "        [37],\n",
            "        [21],\n",
            "        [ 7],\n",
            "        [36],\n",
            "        [32],\n",
            "        [25],\n",
            "        [65],\n",
            "        [50],\n",
            "        [83]])\n",
            "torch.Size([10, 106])\n",
            "Dummy label is 55.\n",
            "stolen label is 91.\n",
            "2.39066005\n",
            "0.03065680\n",
            "0.00627174\n",
            "0.00222127\n",
            "0.00088646\n",
            "0.00043853\n",
            "0.00023530\n",
            "0.00013683\n",
            "0.00007961\n",
            "0.00004739\n",
            "0.00002974\n",
            "0.00001853\n",
            "0.00001283\n",
            "0.00000890\n",
            "0.00000626\n",
            "0.00000447\n",
            "0.00000321\n",
            "0.00000243\n",
            "0.00000179\n",
            "0.00000136\n"
          ]
        },
        {
          "output_type": "display_data",
          "data": {
            "text/plain": [
              "<Figure size 432x288 with 0 Axes>"
            ]
          },
          "metadata": {}
        },
        {
          "output_type": "display_data",
          "data": {
            "text/plain": [
              "<Figure size 1440x216 with 0 Axes>"
            ]
          },
          "metadata": {}
        },
        {
          "output_type": "display_data",
          "data": {
            "image/png": "[encoded data removed]",
            "text/plain": [
              "<Figure size 1440x216 with 1 Axes>"
            ]
          },
          "metadata": {
            "needs_background": "light"
          }
        },
        {
          "output_type": "stream",
          "name": "stdout",
          "text": [
            "2.0419247999999923\n",
            "fininshed training\n",
            "0.008565310492505354\n",
            "fininshed testing\n",
            "torch.Size([10, 3, 32, 32])\n",
            "torch.Size([10, 1])\n",
            "tensor([[91],\n",
            "        [37],\n",
            "        [21],\n",
            "        [ 7],\n",
            "        [36],\n",
            "        [32],\n",
            "        [25],\n",
            "        [65],\n",
            "        [50],\n",
            "        [83]])\n",
            "torch.Size([10, 106])\n",
            "Dummy label is 73.\n",
            "stolen label is 91.\n",
            "2.63250828\n",
            "0.03058195\n",
            "0.00624019\n",
            "0.00240136\n",
            "0.00100555\n",
            "0.00047240\n",
            "0.00022773\n",
            "0.00012678\n",
            "0.00007534\n",
            "0.00004636\n",
            "0.00002994\n",
            "0.00001976\n",
            "0.00001280\n",
            "0.00000857\n",
            "0.00000580\n",
            "0.00000404\n",
            "0.00000284\n",
            "0.00000209\n",
            "0.00000162\n",
            "0.00000125\n"
          ]
        },
        {
          "output_type": "display_data",
          "data": {
            "text/plain": [
              "<Figure size 432x288 with 0 Axes>"
            ]
          },
          "metadata": {}
        },
        {
          "output_type": "display_data",
          "data": {
            "text/plain": [
              "<Figure size 1440x216 with 0 Axes>"
            ]
          },
          "metadata": {}
        },
        {
          "output_type": "display_data",
          "data": {
            "image/png": "[encoded data removed]",
            "text/plain": [
              "<Figure size 1440x216 with 1 Axes>"
            ]
          },
          "metadata": {
            "needs_background": "light"
          }
        },
        {
          "output_type": "stream",
          "name": "stdout",
          "text": [
            "2.049066700000003\n",
            "fininshed training\n",
            "0.008565310492505354\n",
            "fininshed testing\n",
            "torch.Size([10, 3, 32, 32])\n",
            "torch.Size([10, 1])\n",
            "tensor([[91],\n",
            "        [37],\n",
            "        [21],\n",
            "        [ 7],\n",
            "        [36],\n",
            "        [32],\n",
            "        [25],\n",
            "        [65],\n",
            "        [50],\n",
            "        [83]])\n",
            "torch.Size([10, 106])\n",
            "Dummy label is 4.\n",
            "stolen label is 91.\n",
            "2.65198183\n",
            "0.02514395\n",
            "0.00556237\n",
            "0.00198252\n",
            "0.00079634\n",
            "0.00040500\n",
            "0.00022608\n",
            "0.00013243\n",
            "0.00007824\n",
            "0.00005075\n",
            "0.00003251\n",
            "0.00002188\n",
            "0.00001509\n",
            "0.00001025\n",
            "0.00000708\n",
            "0.00000486\n",
            "0.00000339\n",
            "0.00000246\n",
            "0.00000183\n",
            "0.00000139\n"
          ]
        },
        {
          "output_type": "display_data",
          "data": {
            "text/plain": [
              "<Figure size 432x288 with 0 Axes>"
            ]
          },
          "metadata": {}
        },
        {
          "output_type": "display_data",
          "data": {
            "text/plain": [
              "<Figure size 1440x216 with 0 Axes>"
            ]
          },
          "metadata": {}
        },
        {
          "output_type": "display_data",
          "data": {
            "image/png": "[encoded data removed]",
            "text/plain": [
              "<Figure size 1440x216 with 1 Axes>"
            ]
          },
          "metadata": {
            "needs_background": "light"
          }
        },
        {
          "output_type": "stream",
          "name": "stdout",
          "text": [
            "2.057351600000004\n",
            "fininshed training\n",
            "0.008565310492505354\n",
            "fininshed testing\n",
            "torch.Size([10, 3, 32, 32])\n",
            "torch.Size([10, 1])\n",
            "tensor([[91],\n",
            "        [37],\n",
            "        [21],\n",
            "        [ 7],\n",
            "        [36],\n",
            "        [32],\n",
            "        [25],\n",
            "        [65],\n",
            "        [50],\n",
            "        [83]])\n",
            "torch.Size([10, 106])\n",
            "Dummy label is 43.\n",
            "stolen label is 91.\n",
            "2.94767547\n",
            "0.02850852\n",
            "0.00567329\n",
            "0.00194564\n",
            "0.00082664\n",
            "0.00039755\n",
            "0.00022731\n",
            "0.00013138\n",
            "0.00008470\n",
            "0.00005401\n",
            "0.00003481\n",
            "0.00002293\n",
            "0.00001507\n",
            "0.00001036\n",
            "0.00000721\n",
            "0.00000510\n",
            "0.00000374\n",
            "0.00000285\n",
            "0.00000218\n",
            "0.00000181\n"
          ]
        },
        {
          "output_type": "display_data",
          "data": {
            "text/plain": [
              "<Figure size 432x288 with 0 Axes>"
            ]
          },
          "metadata": {}
        },
        {
          "output_type": "display_data",
          "data": {
            "text/plain": [
              "<Figure size 1440x216 with 0 Axes>"
            ]
          },
          "metadata": {}
        },
        {
          "output_type": "display_data",
          "data": {
            "image/png": "[encoded data removed]",
            "text/plain": [
              "<Figure size 1440x216 with 1 Axes>"
            ]
          },
          "metadata": {
            "needs_background": "light"
          }
        },
        {
          "output_type": "stream",
          "name": "stdout",
          "text": [
            "2.0632450000000064\n",
            "fininshed training\n",
            "0.008565310492505354\n",
            "fininshed testing\n",
            "torch.Size([20, 3, 32, 32])\n",
            "torch.Size([20, 1])\n",
            "tensor([[91],\n",
            "        [37],\n",
            "        [21],\n",
            "        [ 7],\n",
            "        [36],\n",
            "        [32],\n",
            "        [25],\n",
            "        [65],\n",
            "        [50],\n",
            "        [83],\n",
            "        [21],\n",
            "        [25],\n",
            "        [26],\n",
            "        [64],\n",
            "        [27],\n",
            "        [26],\n",
            "        [62],\n",
            "        [25],\n",
            "        [25],\n",
            "        [25]])\n",
            "torch.Size([20, 106])\n",
            "Dummy label is 4.\n",
            "stolen label is 91.\n",
            "2.49842358\n",
            "0.02439949\n",
            "0.00504213\n",
            "0.00181704\n",
            "0.00080547\n",
            "0.00037730\n",
            "0.00021800\n",
            "0.00012536\n",
            "0.00007487\n",
            "0.00004850\n",
            "0.00003064\n",
            "0.00001940\n",
            "0.00001313\n",
            "0.00000959\n",
            "0.00000726\n",
            "0.00000548\n",
            "0.00000421\n",
            "0.00000324\n",
            "0.00000264\n",
            "0.00000216\n"
          ]
        },
        {
          "output_type": "display_data",
          "data": {
            "text/plain": [
              "<Figure size 432x288 with 0 Axes>"
            ]
          },
          "metadata": {}
        },
        {
          "output_type": "display_data",
          "data": {
            "text/plain": [
              "<Figure size 1440x216 with 0 Axes>"
            ]
          },
          "metadata": {}
        },
        {
          "output_type": "display_data",
          "data": {
            "image/png": "[encoded data removed]",
            "text/plain": [
              "<Figure size 1440x216 with 1 Axes>"
            ]
          },
          "metadata": {
            "needs_background": "light"
          }
        },
        {
          "output_type": "stream",
          "name": "stdout",
          "text": [
            "2.0640697000000046\n",
            "fininshed training\n",
            "0.008565310492505354\n",
            "fininshed testing\n",
            "torch.Size([20, 3, 32, 32])\n",
            "torch.Size([20, 1])\n",
            "tensor([[91],\n",
            "        [37],\n",
            "        [21],\n",
            "        [ 7],\n",
            "        [36],\n",
            "        [32],\n",
            "        [25],\n",
            "        [65],\n",
            "        [50],\n",
            "        [83],\n",
            "        [21],\n",
            "        [25],\n",
            "        [26],\n",
            "        [64],\n",
            "        [27],\n",
            "        [26],\n",
            "        [62],\n",
            "        [25],\n",
            "        [25],\n",
            "        [25]])\n",
            "torch.Size([20, 106])\n",
            "Dummy label is 41.\n",
            "stolen label is 91.\n",
            "2.36516929\n",
            "0.02564195\n",
            "0.00523309\n",
            "0.00194835\n",
            "0.00085668\n",
            "0.00044306\n",
            "0.00022576\n",
            "0.00013415\n",
            "0.00007983\n",
            "0.00004805\n",
            "0.00003101\n",
            "0.00002131\n",
            "0.00001407\n",
            "0.00000953\n",
            "0.00000646\n",
            "0.00000452\n",
            "0.00000326\n",
            "0.00000241\n",
            "0.00000185\n",
            "0.00000141\n"
          ]
        },
        {
          "output_type": "display_data",
          "data": {
            "text/plain": [
              "<Figure size 432x288 with 0 Axes>"
            ]
          },
          "metadata": {}
        },
        {
          "output_type": "display_data",
          "data": {
            "text/plain": [
              "<Figure size 1440x216 with 0 Axes>"
            ]
          },
          "metadata": {}
        },
        {
          "output_type": "display_data",
          "data": {
            "image/png": "[encoded data removed]",
            "text/plain": [
              "<Figure size 1440x216 with 1 Axes>"
            ]
          },
          "metadata": {
            "needs_background": "light"
          }
        },
        {
          "output_type": "stream",
          "name": "stdout",
          "text": [
            "2.049677500000007\n",
            "fininshed training\n",
            "0.008565310492505354\n",
            "fininshed testing\n",
            "torch.Size([20, 3, 32, 32])\n",
            "torch.Size([20, 1])\n",
            "tensor([[91],\n",
            "        [37],\n",
            "        [21],\n",
            "        [ 7],\n",
            "        [36],\n",
            "        [32],\n",
            "        [25],\n",
            "        [65],\n",
            "        [50],\n",
            "        [83],\n",
            "        [21],\n",
            "        [25],\n",
            "        [26],\n",
            "        [64],\n",
            "        [27],\n",
            "        [26],\n",
            "        [62],\n",
            "        [25],\n",
            "        [25],\n",
            "        [25]])\n",
            "torch.Size([20, 106])\n",
            "Dummy label is 55.\n",
            "stolen label is 91.\n",
            "2.39066005\n",
            "0.03065680\n",
            "0.00627174\n",
            "0.00222127\n",
            "0.00088646\n",
            "0.00043853\n",
            "0.00023530\n",
            "0.00013683\n",
            "0.00007961\n",
            "0.00004739\n",
            "0.00002974\n",
            "0.00001853\n",
            "0.00001283\n",
            "0.00000890\n",
            "0.00000626\n",
            "0.00000447\n",
            "0.00000321\n",
            "0.00000243\n",
            "0.00000179\n",
            "0.00000136\n"
          ]
        },
        {
          "output_type": "display_data",
          "data": {
            "text/plain": [
              "<Figure size 432x288 with 0 Axes>"
            ]
          },
          "metadata": {}
        },
        {
          "output_type": "display_data",
          "data": {
            "text/plain": [
              "<Figure size 1440x216 with 0 Axes>"
            ]
          },
          "metadata": {}
        },
        {
          "output_type": "display_data",
          "data": {
            "image/png": "[encoded data removed]",
            "text/plain": [
              "<Figure size 1440x216 with 1 Axes>"
            ]
          },
          "metadata": {
            "needs_background": "light"
          }
        },
        {
          "output_type": "stream",
          "name": "stdout",
          "text": [
            "2.058113800000001\n",
            "fininshed training\n",
            "0.008565310492505354\n",
            "fininshed testing\n",
            "torch.Size([20, 3, 32, 32])\n",
            "torch.Size([20, 1])\n",
            "tensor([[91],\n",
            "        [37],\n",
            "        [21],\n",
            "        [ 7],\n",
            "        [36],\n",
            "        [32],\n",
            "        [25],\n",
            "        [65],\n",
            "        [50],\n",
            "        [83],\n",
            "        [21],\n",
            "        [25],\n",
            "        [26],\n",
            "        [64],\n",
            "        [27],\n",
            "        [26],\n",
            "        [62],\n",
            "        [25],\n",
            "        [25],\n",
            "        [25]])\n",
            "torch.Size([20, 106])\n",
            "Dummy label is 73.\n",
            "stolen label is 91.\n",
            "2.63250828\n",
            "0.03058195\n",
            "0.00624019\n",
            "0.00240136\n",
            "0.00100555\n",
            "0.00047240\n",
            "0.00022773\n",
            "0.00012678\n",
            "0.00007534\n",
            "0.00004636\n",
            "0.00002994\n",
            "0.00001976\n",
            "0.00001280\n",
            "0.00000857\n",
            "0.00000580\n",
            "0.00000404\n",
            "0.00000284\n",
            "0.00000209\n",
            "0.00000162\n",
            "0.00000125\n"
          ]
        },
        {
          "output_type": "display_data",
          "data": {
            "text/plain": [
              "<Figure size 432x288 with 0 Axes>"
            ]
          },
          "metadata": {}
        },
        {
          "output_type": "display_data",
          "data": {
            "text/plain": [
              "<Figure size 1440x216 with 0 Axes>"
            ]
          },
          "metadata": {}
        },
        {
          "output_type": "display_data",
          "data": {
            "image/png": "[encoded data removed]",
            "text/plain": [
              "<Figure size 1440x216 with 1 Axes>"
            ]
          },
          "metadata": {
            "needs_background": "light"
          }
        },
        {
          "output_type": "stream",
          "name": "stdout",
          "text": [
            "2.051165500000002\n",
            "fininshed training\n",
            "0.008565310492505354\n",
            "fininshed testing\n",
            "torch.Size([20, 3, 32, 32])\n",
            "torch.Size([20, 1])\n",
            "tensor([[91],\n",
            "        [37],\n",
            "        [21],\n",
            "        [ 7],\n",
            "        [36],\n",
            "        [32],\n",
            "        [25],\n",
            "        [65],\n",
            "        [50],\n",
            "        [83],\n",
            "        [21],\n",
            "        [25],\n",
            "        [26],\n",
            "        [64],\n",
            "        [27],\n",
            "        [26],\n",
            "        [62],\n",
            "        [25],\n",
            "        [25],\n",
            "        [25]])\n",
            "torch.Size([20, 106])\n",
            "Dummy label is 4.\n",
            "stolen label is 91.\n",
            "2.65198183\n",
            "0.02514395\n",
            "0.00556237\n",
            "0.00198252\n",
            "0.00079634\n",
            "0.00040500\n",
            "0.00022608\n",
            "0.00013243\n",
            "0.00007824\n",
            "0.00005075\n",
            "0.00003251\n",
            "0.00002188\n",
            "0.00001509\n",
            "0.00001025\n",
            "0.00000708\n",
            "0.00000486\n",
            "0.00000339\n",
            "0.00000246\n",
            "0.00000183\n",
            "0.00000139\n"
          ]
        },
        {
          "output_type": "display_data",
          "data": {
            "text/plain": [
              "<Figure size 432x288 with 0 Axes>"
            ]
          },
          "metadata": {}
        },
        {
          "output_type": "display_data",
          "data": {
            "text/plain": [
              "<Figure size 1440x216 with 0 Axes>"
            ]
          },
          "metadata": {}
        },
        {
          "output_type": "display_data",
          "data": {
            "image/png": "[encoded data removed]",
            "text/plain": [
              "<Figure size 1440x216 with 1 Axes>"
            ]
          },
          "metadata": {
            "needs_background": "light"
          }
        },
        {
          "output_type": "stream",
          "name": "stdout",
          "text": [
            "2.1124897000000034\n",
            "fininshed training\n",
            "0.008565310492505354\n",
            "fininshed testing\n",
            "torch.Size([20, 3, 32, 32])\n",
            "torch.Size([20, 1])\n",
            "tensor([[91],\n",
            "        [37],\n",
            "        [21],\n",
            "        [ 7],\n",
            "        [36],\n",
            "        [32],\n",
            "        [25],\n",
            "        [65],\n",
            "        [50],\n",
            "        [83],\n",
            "        [21],\n",
            "        [25],\n",
            "        [26],\n",
            "        [64],\n",
            "        [27],\n",
            "        [26],\n",
            "        [62],\n",
            "        [25],\n",
            "        [25],\n",
            "        [25]])\n",
            "torch.Size([20, 106])\n",
            "Dummy label is 43.\n",
            "stolen label is 91.\n",
            "2.94767547\n",
            "0.02850852\n",
            "0.00567329\n",
            "0.00194564\n",
            "0.00082664\n",
            "0.00039755\n",
            "0.00022731\n",
            "0.00013138\n",
            "0.00008470\n",
            "0.00005401\n",
            "0.00003481\n",
            "0.00002293\n",
            "0.00001507\n",
            "0.00001036\n",
            "0.00000721\n",
            "0.00000510\n",
            "0.00000374\n",
            "0.00000285\n",
            "0.00000218\n",
            "0.00000181\n"
          ]
        },
        {
          "output_type": "display_data",
          "data": {
            "text/plain": [
              "<Figure size 432x288 with 0 Axes>"
            ]
          },
          "metadata": {}
        },
        {
          "output_type": "display_data",
          "data": {
            "text/plain": [
              "<Figure size 1440x216 with 0 Axes>"
            ]
          },
          "metadata": {}
        },
        {
          "output_type": "display_data",
          "data": {
            "image/png": "[encoded data removed]",
            "text/plain": [
              "<Figure size 1440x216 with 1 Axes>"
            ]
          },
          "metadata": {
            "needs_background": "light"
          }
        },
        {
          "output_type": "stream",
          "name": "stdout",
          "text": [
            "2.0695062000000006\n",
            "fininshed training\n",
            "0.008565310492505354\n",
            "fininshed testing\n",
            "torch.Size([32, 3, 32, 32])\n",
            "torch.Size([32, 1])\n",
            "tensor([[91],\n",
            "        [37],\n",
            "        [21],\n",
            "        [ 7],\n",
            "        [36],\n",
            "        [32],\n",
            "        [25],\n",
            "        [65],\n",
            "        [50],\n",
            "        [83],\n",
            "        [21],\n",
            "        [25],\n",
            "        [26],\n",
            "        [64],\n",
            "        [27],\n",
            "        [26],\n",
            "        [62],\n",
            "        [25],\n",
            "        [25],\n",
            "        [25],\n",
            "        [50],\n",
            "        [69],\n",
            "        [27],\n",
            "        [76],\n",
            "        [16],\n",
            "        [15],\n",
            "        [25],\n",
            "        [42],\n",
            "        [ 7],\n",
            "        [ 4],\n",
            "        [37],\n",
            "        [ 1]])\n",
            "torch.Size([32, 106])\n",
            "Dummy label is 4.\n",
            "stolen label is 91.\n",
            "2.49842358\n",
            "0.02439949\n",
            "0.00504213\n",
            "0.00181704\n",
            "0.00080547\n",
            "0.00037730\n",
            "0.00021800\n",
            "0.00012536\n",
            "0.00007487\n",
            "0.00004850\n",
            "0.00003064\n",
            "0.00001940\n",
            "0.00001313\n",
            "0.00000959\n",
            "0.00000726\n",
            "0.00000548\n",
            "0.00000421\n",
            "0.00000324\n",
            "0.00000264\n",
            "0.00000216\n"
          ]
        },
        {
          "output_type": "display_data",
          "data": {
            "text/plain": [
              "<Figure size 432x288 with 0 Axes>"
            ]
          },
          "metadata": {}
        },
        {
          "output_type": "display_data",
          "data": {
            "text/plain": [
              "<Figure size 1440x216 with 0 Axes>"
            ]
          },
          "metadata": {}
        },
        {
          "output_type": "display_data",
          "data": {
            "image/png": "[encoded data removed]",
            "text/plain": [
              "<Figure size 1440x216 with 1 Axes>"
            ]
          },
          "metadata": {
            "needs_background": "light"
          }
        },
        {
          "output_type": "stream",
          "name": "stdout",
          "text": [
            "2.0413939000000028\n",
            "fininshed training\n",
            "0.008565310492505354\n",
            "fininshed testing\n",
            "torch.Size([32, 3, 32, 32])\n",
            "torch.Size([32, 1])\n",
            "tensor([[91],\n",
            "        [37],\n",
            "        [21],\n",
            "        [ 7],\n",
            "        [36],\n",
            "        [32],\n",
            "        [25],\n",
            "        [65],\n",
            "        [50],\n",
            "        [83],\n",
            "        [21],\n",
            "        [25],\n",
            "        [26],\n",
            "        [64],\n",
            "        [27],\n",
            "        [26],\n",
            "        [62],\n",
            "        [25],\n",
            "        [25],\n",
            "        [25],\n",
            "        [50],\n",
            "        [69],\n",
            "        [27],\n",
            "        [76],\n",
            "        [16],\n",
            "        [15],\n",
            "        [25],\n",
            "        [42],\n",
            "        [ 7],\n",
            "        [ 4],\n",
            "        [37],\n",
            "        [ 1]])\n",
            "torch.Size([32, 106])\n",
            "Dummy label is 41.\n",
            "stolen label is 91.\n",
            "2.36516929\n",
            "0.02564195\n",
            "0.00523309\n",
            "0.00194835\n",
            "0.00085668\n",
            "0.00044306\n",
            "0.00022576\n",
            "0.00013415\n",
            "0.00007983\n",
            "0.00004805\n",
            "0.00003101\n",
            "0.00002131\n",
            "0.00001407\n",
            "0.00000953\n",
            "0.00000646\n",
            "0.00000452\n",
            "0.00000326\n",
            "0.00000241\n",
            "0.00000185\n",
            "0.00000141\n"
          ]
        },
        {
          "output_type": "display_data",
          "data": {
            "text/plain": [
              "<Figure size 432x288 with 0 Axes>"
            ]
          },
          "metadata": {}
        },
        {
          "output_type": "display_data",
          "data": {
            "text/plain": [
              "<Figure size 1440x216 with 0 Axes>"
            ]
          },
          "metadata": {}
        },
        {
          "output_type": "display_data",
          "data": {
            "image/png": "[encoded data removed]",
            "text/plain": [
              "<Figure size 1440x216 with 1 Axes>"
            ]
          },
          "metadata": {
            "needs_background": "light"
          }
        },
        {
          "output_type": "stream",
          "name": "stdout",
          "text": [
            "2.067199299999993\n",
            "fininshed training\n",
            "0.008565310492505354\n",
            "fininshed testing\n",
            "torch.Size([32, 3, 32, 32])\n",
            "torch.Size([32, 1])\n",
            "tensor([[91],\n",
            "        [37],\n",
            "        [21],\n",
            "        [ 7],\n",
            "        [36],\n",
            "        [32],\n",
            "        [25],\n",
            "        [65],\n",
            "        [50],\n",
            "        [83],\n",
            "        [21],\n",
            "        [25],\n",
            "        [26],\n",
            "        [64],\n",
            "        [27],\n",
            "        [26],\n",
            "        [62],\n",
            "        [25],\n",
            "        [25],\n",
            "        [25],\n",
            "        [50],\n",
            "        [69],\n",
            "        [27],\n",
            "        [76],\n",
            "        [16],\n",
            "        [15],\n",
            "        [25],\n",
            "        [42],\n",
            "        [ 7],\n",
            "        [ 4],\n",
            "        [37],\n",
            "        [ 1]])\n",
            "torch.Size([32, 106])\n",
            "Dummy label is 55.\n",
            "stolen label is 91.\n",
            "2.39066005\n",
            "0.03065680\n",
            "0.00627174\n",
            "0.00222127\n",
            "0.00088646\n",
            "0.00043853\n",
            "0.00023530\n",
            "0.00013683\n",
            "0.00007961\n",
            "0.00004739\n",
            "0.00002974\n",
            "0.00001853\n",
            "0.00001283\n",
            "0.00000890\n",
            "0.00000626\n",
            "0.00000447\n",
            "0.00000321\n",
            "0.00000243\n",
            "0.00000179\n",
            "0.00000136\n"
          ]
        },
        {
          "output_type": "display_data",
          "data": {
            "text/plain": [
              "<Figure size 432x288 with 0 Axes>"
            ]
          },
          "metadata": {}
        },
        {
          "output_type": "display_data",
          "data": {
            "text/plain": [
              "<Figure size 1440x216 with 0 Axes>"
            ]
          },
          "metadata": {}
        },
        {
          "output_type": "display_data",
          "data": {
            "image/png": "[encoded data removed]",
            "text/plain": [
              "<Figure size 1440x216 with 1 Axes>"
            ]
          },
          "metadata": {
            "needs_background": "light"
          }
        },
        {
          "output_type": "stream",
          "name": "stdout",
          "text": [
            "2.0522132000000055\n",
            "fininshed training\n",
            "0.008565310492505354\n",
            "fininshed testing\n",
            "torch.Size([32, 3, 32, 32])\n",
            "torch.Size([32, 1])\n",
            "tensor([[91],\n",
            "        [37],\n",
            "        [21],\n",
            "        [ 7],\n",
            "        [36],\n",
            "        [32],\n",
            "        [25],\n",
            "        [65],\n",
            "        [50],\n",
            "        [83],\n",
            "        [21],\n",
            "        [25],\n",
            "        [26],\n",
            "        [64],\n",
            "        [27],\n",
            "        [26],\n",
            "        [62],\n",
            "        [25],\n",
            "        [25],\n",
            "        [25],\n",
            "        [50],\n",
            "        [69],\n",
            "        [27],\n",
            "        [76],\n",
            "        [16],\n",
            "        [15],\n",
            "        [25],\n",
            "        [42],\n",
            "        [ 7],\n",
            "        [ 4],\n",
            "        [37],\n",
            "        [ 1]])\n",
            "torch.Size([32, 106])\n",
            "Dummy label is 73.\n",
            "stolen label is 91.\n",
            "2.63250828\n",
            "0.03058195\n",
            "0.00624019\n",
            "0.00240136\n",
            "0.00100555\n",
            "0.00047240\n",
            "0.00022773\n",
            "0.00012678\n",
            "0.00007534\n",
            "0.00004636\n",
            "0.00002994\n",
            "0.00001976\n",
            "0.00001280\n",
            "0.00000857\n",
            "0.00000580\n",
            "0.00000404\n",
            "0.00000284\n",
            "0.00000209\n",
            "0.00000162\n",
            "0.00000125\n"
          ]
        },
        {
          "output_type": "display_data",
          "data": {
            "text/plain": [
              "<Figure size 432x288 with 0 Axes>"
            ]
          },
          "metadata": {}
        },
        {
          "output_type": "display_data",
          "data": {
            "text/plain": [
              "<Figure size 1440x216 with 0 Axes>"
            ]
          },
          "metadata": {}
        },
        {
          "output_type": "display_data",
          "data": {
            "image/png": "[encoded data removed]",
            "text/plain": [
              "<Figure size 1440x216 with 1 Axes>"
            ]
          },
          "metadata": {
            "needs_background": "light"
          }
        },
        {
          "output_type": "stream",
          "name": "stdout",
          "text": [
            "2.058926199999996\n",
            "fininshed training\n",
            "0.008565310492505354\n",
            "fininshed testing\n",
            "torch.Size([32, 3, 32, 32])\n",
            "torch.Size([32, 1])\n",
            "tensor([[91],\n",
            "        [37],\n",
            "        [21],\n",
            "        [ 7],\n",
            "        [36],\n",
            "        [32],\n",
            "        [25],\n",
            "        [65],\n",
            "        [50],\n",
            "        [83],\n",
            "        [21],\n",
            "        [25],\n",
            "        [26],\n",
            "        [64],\n",
            "        [27],\n",
            "        [26],\n",
            "        [62],\n",
            "        [25],\n",
            "        [25],\n",
            "        [25],\n",
            "        [50],\n",
            "        [69],\n",
            "        [27],\n",
            "        [76],\n",
            "        [16],\n",
            "        [15],\n",
            "        [25],\n",
            "        [42],\n",
            "        [ 7],\n",
            "        [ 4],\n",
            "        [37],\n",
            "        [ 1]])\n",
            "torch.Size([32, 106])\n",
            "Dummy label is 4.\n",
            "stolen label is 91.\n",
            "2.65198183\n",
            "0.02514395\n",
            "0.00556237\n",
            "0.00198252\n",
            "0.00079634\n",
            "0.00040500\n",
            "0.00022608\n",
            "0.00013243\n",
            "0.00007824\n",
            "0.00005075\n",
            "0.00003251\n",
            "0.00002188\n",
            "0.00001509\n",
            "0.00001025\n",
            "0.00000708\n",
            "0.00000486\n",
            "0.00000339\n",
            "0.00000246\n",
            "0.00000183\n",
            "0.00000139\n"
          ]
        },
        {
          "output_type": "display_data",
          "data": {
            "text/plain": [
              "<Figure size 432x288 with 0 Axes>"
            ]
          },
          "metadata": {}
        },
        {
          "output_type": "display_data",
          "data": {
            "text/plain": [
              "<Figure size 1440x216 with 0 Axes>"
            ]
          },
          "metadata": {}
        },
        {
          "output_type": "display_data",
          "data": {
            "image/png": "[encoded data removed]",
            "text/plain": [
              "<Figure size 1440x216 with 1 Axes>"
            ]
          },
          "metadata": {
            "needs_background": "light"
          }
        },
        {
          "output_type": "stream",
          "name": "stdout",
          "text": [
            "2.060695799999985\n",
            "fininshed training\n",
            "0.008565310492505354\n",
            "fininshed testing\n",
            "torch.Size([32, 3, 32, 32])\n",
            "torch.Size([32, 1])\n",
            "tensor([[91],\n",
            "        [37],\n",
            "        [21],\n",
            "        [ 7],\n",
            "        [36],\n",
            "        [32],\n",
            "        [25],\n",
            "        [65],\n",
            "        [50],\n",
            "        [83],\n",
            "        [21],\n",
            "        [25],\n",
            "        [26],\n",
            "        [64],\n",
            "        [27],\n",
            "        [26],\n",
            "        [62],\n",
            "        [25],\n",
            "        [25],\n",
            "        [25],\n",
            "        [50],\n",
            "        [69],\n",
            "        [27],\n",
            "        [76],\n",
            "        [16],\n",
            "        [15],\n",
            "        [25],\n",
            "        [42],\n",
            "        [ 7],\n",
            "        [ 4],\n",
            "        [37],\n",
            "        [ 1]])\n",
            "torch.Size([32, 106])\n",
            "Dummy label is 43.\n",
            "stolen label is 91.\n",
            "2.94767547\n",
            "0.02850852\n",
            "0.00567329\n",
            "0.00194564\n",
            "0.00082664\n",
            "0.00039755\n",
            "0.00022731\n",
            "0.00013138\n",
            "0.00008470\n",
            "0.00005401\n",
            "0.00003481\n",
            "0.00002293\n",
            "0.00001507\n",
            "0.00001036\n",
            "0.00000721\n",
            "0.00000510\n",
            "0.00000374\n",
            "0.00000285\n",
            "0.00000218\n",
            "0.00000181\n"
          ]
        },
        {
          "output_type": "display_data",
          "data": {
            "text/plain": [
              "<Figure size 432x288 with 0 Axes>"
            ]
          },
          "metadata": {}
        },
        {
          "output_type": "display_data",
          "data": {
            "text/plain": [
              "<Figure size 1440x216 with 0 Axes>"
            ]
          },
          "metadata": {}
        },
        {
          "output_type": "display_data",
          "data": {
            "image/png": "[encoded data removed]",
            "text/plain": [
              "<Figure size 1440x216 with 1 Axes>"
            ]
          },
          "metadata": {
            "needs_background": "light"
          }
        },
        {
          "output_type": "stream",
          "name": "stdout",
          "text": [
            "2.0685249999999997\n"
          ]
        }
      ]
    },
    {
      "cell_type": "code",
      "metadata": {
        "id": "el3kl1B3mEqE",
        "colab": {
          "base_uri": "https://localhost:8080/"
        },
        "outputId": "d147ae50-ea4a-4f8c-eb18-b7932abff6e1"
      },
      "source": [
        "print (\"Batchsize Client Iterations        SSIM                    MSE\")\n",
        "for i in range(30):\n",
        "  print(f\"  { grandssimNmses[i][0] }          { grandssimNmses[i][1] }             { grandssimNmses[i][2] }     { grandssimNmses[i][3]  }\")"
      ],
      "execution_count": 21,
      "outputs": [
        {
          "output_type": "stream",
          "name": "stdout",
          "text": [
            "Batchsize Client Iterations        SSIM                    MSE\n",
            "  1          1             0.997612714767456     6.307068542810157e-05\n",
            "  1          2             0.998252809047699     2.6893088943324983e-05\n",
            "  1          5             0.998280942440033     2.5442082915105857e-05\n",
            "  1          10             0.9984983801841736     2.3177759430836886e-05\n",
            "  1          20             0.9981105923652649     2.5227434889529832e-05\n",
            "  1          50             0.9981398582458496     5.1830695156240836e-05\n",
            "  5          1             0.997612714767456     6.307068542810157e-05\n",
            "  5          2             0.998252809047699     2.6893088943324983e-05\n",
            "  5          5             0.998280942440033     2.5442082915105857e-05\n",
            "  5          10             0.9984983801841736     2.3177759430836886e-05\n",
            "  5          20             0.9981105923652649     2.5227434889529832e-05\n",
            "  5          50             0.9981398582458496     5.1830695156240836e-05\n",
            "  10          1             0.997612714767456     6.307068542810157e-05\n",
            "  10          2             0.998252809047699     2.6893088943324983e-05\n",
            "  10          5             0.998280942440033     2.5442082915105857e-05\n",
            "  10          10             0.9984983801841736     2.3177759430836886e-05\n",
            "  10          20             0.9981105923652649     2.5227434889529832e-05\n",
            "  10          50             0.9981398582458496     5.1830695156240836e-05\n",
            "  20          1             0.997612714767456     6.307068542810157e-05\n",
            "  20          2             0.998252809047699     2.6893088943324983e-05\n",
            "  20          5             0.998280942440033     2.5442082915105857e-05\n",
            "  20          10             0.9984983801841736     2.3177759430836886e-05\n",
            "  20          20             0.9981105923652649     2.5227434889529832e-05\n",
            "  20          50             0.9981398582458496     5.1830695156240836e-05\n",
            "  32          1             0.997612714767456     6.307068542810157e-05\n",
            "  32          2             0.998252809047699     2.6893088943324983e-05\n",
            "  32          5             0.998280942440033     2.5442082915105857e-05\n",
            "  32          10             0.9984983801841736     2.3177759430836886e-05\n",
            "  32          20             0.9981105923652649     2.5227434889529832e-05\n",
            "  32          50             0.9981398582458496     5.1830695156240836e-05\n"
          ]
        }
      ]
    },
    {
      "cell_type": "code",
      "metadata": {
        "id": "iO4v5-ruZsGv"
      },
      "source": [
        "]"
      ],
      "execution_count": null,
      "outputs": []
    }
  ]
}